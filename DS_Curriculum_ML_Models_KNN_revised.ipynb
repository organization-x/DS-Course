{
  "nbformat": 4,
  "nbformat_minor": 0,
  "metadata": {
    "colab": {
      "name": "DS_Curriculum_ML_Models_KNN.ipynb",
      "provenance": [],
      "collapsed_sections": []
    },
    "kernelspec": {
      "name": "python3",
      "display_name": "Python 3"
    },
    "language_info": {
      "name": "python"
    }
  },
  "cells": [
    {
      "cell_type": "markdown",
      "source": [
        "#K Nearest Neighbors applied on GDP per capita"
      ],
      "metadata": {
        "id": "t7jGqdmYDI70"
      }
    },
    {
      "cell_type": "markdown",
      "source": [
        "In this notebook we will briefly talk about what K Nearest Neighbors is, apply it to our data, and then we evaluate our model\n",
        "\n",
        "K Nearest Neighbors looks at data points in the testing set and infers the classification based on similarity to other points of the same class in the training set. For example, assume we have a data point that we want to classify. If the closest other data point to our data point is a certain class, than 1 neighbor nearest neighbors will classify the new data point as the same class. 2 neighbor nearest neighbors takes into account the closest two data points, and so on. \n",
        "\n",
        "Definition - class: an output category of an ML model. "
      ],
      "metadata": {
        "id": "u-8te6VhEa4b"
      }
    },
    {
      "cell_type": "code",
      "execution_count": null,
      "metadata": {
        "id": "cLsyOioiUvoU"
      },
      "outputs": [],
      "source": [
        "#data manipulation and visualization libraries\n",
        "import numpy as np\n",
        "import pandas as pd\n",
        "import seaborn as sns\n",
        "from matplotlib import pyplot as plt\n",
        "\n",
        "#sklearn preprocessing and importing various ML models\n",
        "from sklearn.preprocessing import LabelEncoder\n",
        "from sklearn.model_selection import train_test_split\n",
        "from sklearn.metrics import mean_absolute_error, accuracy_score\n",
        "from sklearn.model_selection import train_test_split\n",
        "\n",
        "import warnings \n",
        "warnings.filterwarnings('ignore')\n",
        "warnings.filterwarnings('ignore', category=DeprecationWarning)\n",
        "from sklearn.neighbors import KNeighborsRegressor, KNeighborsClassifier\n",
        "from sklearn.metrics import confusion_matrix"
      ]
    },
    {
      "cell_type": "markdown",
      "source": [
        "First, like the rest of the notebooks, we will merge and preprocess our datasets. All of this code has been previously explained in the merging notebook."
      ],
      "metadata": {
        "id": "P7qb9cZGDSw8"
      }
    },
    {
      "cell_type": "code",
      "source": [
        "# FUNCTIONS FROM SECTION 1\n",
        "def merge_data(country_data, height_data):\n",
        "  height_data = height_data.rename(columns={\"Country Name\" : \"Country\"})\n",
        "  country_data['Country'] = country_data.apply(lambda row : row.astype(str)['Country'][:-1], axis=1)\n",
        "  old_names = ['Antigua & Barbuda', 'Bahamas, The', 'Bosnia & Herzegovina', 'Central African Rep.', 'Congo, Dem. Rep.', 'Swaziland', 'Gambia, The', 'Cote d\\'Ivoire',\n",
        "             'Micronesia, Fed. St.', 'Burma', 'Korea, North', 'Macedonia', 'Congo, Repub. of the', 'Saint Kitts & Nevis', 'Sao Tome & Principe',\n",
        "             'Korea, South', 'East Timor', 'Trinidad & Tobago']\n",
        "\n",
        "  new_names = ['Antigua and Barbuda', 'Bahamas', 'Bosnia and Herzegovina', 'Central African Republic', 'DR Congo', 'Eswatini', 'Gambia', 'Ivory Coast', 'Micronesia',\n",
        "              'Myanmar', 'North Korea', 'North Macedonia', 'Republic of the Congo', 'Saint Kitts and Nevis', 'Sao Tome and Principe', 'South Korea',\n",
        "              'Timor-Leste', 'Trinidad and Tobago']\n",
        "\n",
        "  for i in range(len(old_names)):\n",
        "    country_data['Country'].replace({old_names[i]: new_names[i]}, inplace=True)\n",
        "  \n",
        "  merged_df = pd.merge(country_data, height_data, on=['Country'])\n",
        "  return merged_df\n",
        "\n",
        "\n",
        "\n",
        "# FUNCTIONS FROM SECTION 2\n",
        "def rename_regions(row):\n",
        "  if row['Region'] == 'ASIA (EX. NEAR EAST)':\n",
        "    region = 'ASIA'\n",
        "  elif row['Region'] == 'NEAR EAST':\n",
        "    region = 'MIDDLE EAST'\n",
        "  elif row['Region'] == 'C.W. OF IND. STATES':\n",
        "    region = \"C.W.I. STATES\"\n",
        "  else:\n",
        "    region = row['Region']\n",
        "  return region\n",
        "\n",
        "def format_and_clean_data(merged_data):\n",
        "\n",
        "  merged_data['Region'] = merged_data.apply(lambda row : row.astype(str)['Region'].strip(), axis=1)\n",
        "  merged_data['Region'] = merged_data.apply(lambda row : rename_regions(row), axis=1)\n",
        "\n",
        "  for col in merged_data.columns.values:\n",
        "    # if there aren't any null values in this col, skip it\n",
        "    if merged_data[col].isnull().sum() == 0:\n",
        "        continue\n",
        "    # if the col is climate, get the mode, or most common value, and use it as the guessed values\n",
        "    if col == 'Climate':\n",
        "        guess_values = merged_data.groupby('Region')['Climate'].apply(lambda x: x.mode())\n",
        "    else:\n",
        "    # in all other cases, get the median, or average, of the column grouped by the region\n",
        "        guess_values = merged_data.groupby('Region')[col].median()\n",
        "    # for each region in the data set, go through and find all of the null values and set them to the median for that region\n",
        "    for region in merged_data['Region'].unique():\n",
        "        merged_data[col].loc[(merged_data[col].isnull())&(merged_data['Region']==region)] = guess_values[region]\n",
        "\n",
        "  return merged_data\n",
        "\n",
        "\n",
        "\n",
        "def get_gdp_dataset(merged_data):\n",
        "  \"\"\"function's purpose is to combine the different height features into one average height \n",
        "  feature and select the crucial features necessary for our ML model\"\"\"\n",
        "\n",
        "  #combine height attributes\n",
        "  merged_data = merged_data.drop(['Male Height in Cm', 'Female Height in Cm'], axis=1)\n",
        "  merged_data['Average Height in Ft'] = merged_data['Female Height in Ft'] / 2 + merged_data['Male Height in Ft'] / 2\n",
        "  merged_data = merged_data.drop(['Male Height in Ft', 'Female Height in Ft'], axis=1)\n",
        "\n",
        "  #select crucial features\n",
        "  GDP_features = ['GDP ($ per capita)', 'Infant mortality (per 1000 births)', 'Net migration', 'Pop. Density (per sq. mi.)',\n",
        "                'Literacy (%)', 'Phones (per 1000)', 'Birthrate', 'Agriculture', 'Industry', 'Service']\n",
        "  gdp_data = merged_data[GDP_features]\n",
        "  \n",
        "  return gdp_data"
      ],
      "metadata": {
        "id": "lB--HtfXEeDE"
      },
      "execution_count": null,
      "outputs": []
    },
    {
      "cell_type": "markdown",
      "source": [
        "We will read in the csv files for the gdp and height datasets and import them as pandas dataframes, that can then be manipulated by our merge and clean functions. "
      ],
      "metadata": {
        "id": "xdrrWt5PJXBR"
      }
    },
    {
      "cell_type": "code",
      "source": [
        "height_data = pd.read_csv('/content/Height_of_Male_and_Female_by_Country_2022.csv')\n",
        "country_data = pd.read_csv('/content/countries_of_the_world.csv', decimal=',')\n",
        "\n",
        "merged_data = merge_data(country_data, height_data)\n",
        "merged_data = format_and_clean_data(merged_data)\n",
        "gdp_data = get_gdp_dataset(merged_data)\n",
        "\n",
        "gdp_data.head()"
      ],
      "metadata": {
        "colab": {
          "base_uri": "https://localhost:8080/",
          "height": 285
        },
        "id": "7YWlVXsaEeBE",
        "outputId": "870a9005-d925-41f1-b695-4cd1c280bb5d"
      },
      "execution_count": null,
      "outputs": [
        {
          "output_type": "execute_result",
          "data": {
            "text/plain": [
              "   GDP ($ per capita)  Infant mortality (per 1000 births)  Net migration  \\\n",
              "0               700.0                              163.07          23.06   \n",
              "1              4500.0                               21.52          -4.93   \n",
              "2              6000.0                               31.00          -0.39   \n",
              "3              8000.0                                9.27         -20.71   \n",
              "4             19000.0                                4.05           6.60   \n",
              "\n",
              "   Pop. Density (per sq. mi.)  Literacy (%)  Phones (per 1000)  Birthrate  \\\n",
              "0                        48.0          36.0                3.2      46.60   \n",
              "1                       124.6          86.5               71.2      15.11   \n",
              "2                        13.8          70.0               78.1      17.14   \n",
              "3                       290.4          97.0              259.5      22.46   \n",
              "4                       152.1         100.0              497.2       8.71   \n",
              "\n",
              "   Agriculture  Industry  Service  \n",
              "0        0.380     0.240    0.380  \n",
              "1        0.232     0.188    0.579  \n",
              "2        0.101     0.600    0.298  \n",
              "3        0.151     0.190    0.620  \n",
              "4        0.021     0.274    0.707  "
            ],
            "text/html": [
              "\n",
              "  <div id=\"df-c077e75f-414c-4643-81db-14c9dac8cf43\">\n",
              "    <div class=\"colab-df-container\">\n",
              "      <div>\n",
              "<style scoped>\n",
              "    .dataframe tbody tr th:only-of-type {\n",
              "        vertical-align: middle;\n",
              "    }\n",
              "\n",
              "    .dataframe tbody tr th {\n",
              "        vertical-align: top;\n",
              "    }\n",
              "\n",
              "    .dataframe thead th {\n",
              "        text-align: right;\n",
              "    }\n",
              "</style>\n",
              "<table border=\"1\" class=\"dataframe\">\n",
              "  <thead>\n",
              "    <tr style=\"text-align: right;\">\n",
              "      <th></th>\n",
              "      <th>GDP ($ per capita)</th>\n",
              "      <th>Infant mortality (per 1000 births)</th>\n",
              "      <th>Net migration</th>\n",
              "      <th>Pop. Density (per sq. mi.)</th>\n",
              "      <th>Literacy (%)</th>\n",
              "      <th>Phones (per 1000)</th>\n",
              "      <th>Birthrate</th>\n",
              "      <th>Agriculture</th>\n",
              "      <th>Industry</th>\n",
              "      <th>Service</th>\n",
              "    </tr>\n",
              "  </thead>\n",
              "  <tbody>\n",
              "    <tr>\n",
              "      <th>0</th>\n",
              "      <td>700.0</td>\n",
              "      <td>163.07</td>\n",
              "      <td>23.06</td>\n",
              "      <td>48.0</td>\n",
              "      <td>36.0</td>\n",
              "      <td>3.2</td>\n",
              "      <td>46.60</td>\n",
              "      <td>0.380</td>\n",
              "      <td>0.240</td>\n",
              "      <td>0.380</td>\n",
              "    </tr>\n",
              "    <tr>\n",
              "      <th>1</th>\n",
              "      <td>4500.0</td>\n",
              "      <td>21.52</td>\n",
              "      <td>-4.93</td>\n",
              "      <td>124.6</td>\n",
              "      <td>86.5</td>\n",
              "      <td>71.2</td>\n",
              "      <td>15.11</td>\n",
              "      <td>0.232</td>\n",
              "      <td>0.188</td>\n",
              "      <td>0.579</td>\n",
              "    </tr>\n",
              "    <tr>\n",
              "      <th>2</th>\n",
              "      <td>6000.0</td>\n",
              "      <td>31.00</td>\n",
              "      <td>-0.39</td>\n",
              "      <td>13.8</td>\n",
              "      <td>70.0</td>\n",
              "      <td>78.1</td>\n",
              "      <td>17.14</td>\n",
              "      <td>0.101</td>\n",
              "      <td>0.600</td>\n",
              "      <td>0.298</td>\n",
              "    </tr>\n",
              "    <tr>\n",
              "      <th>3</th>\n",
              "      <td>8000.0</td>\n",
              "      <td>9.27</td>\n",
              "      <td>-20.71</td>\n",
              "      <td>290.4</td>\n",
              "      <td>97.0</td>\n",
              "      <td>259.5</td>\n",
              "      <td>22.46</td>\n",
              "      <td>0.151</td>\n",
              "      <td>0.190</td>\n",
              "      <td>0.620</td>\n",
              "    </tr>\n",
              "    <tr>\n",
              "      <th>4</th>\n",
              "      <td>19000.0</td>\n",
              "      <td>4.05</td>\n",
              "      <td>6.60</td>\n",
              "      <td>152.1</td>\n",
              "      <td>100.0</td>\n",
              "      <td>497.2</td>\n",
              "      <td>8.71</td>\n",
              "      <td>0.021</td>\n",
              "      <td>0.274</td>\n",
              "      <td>0.707</td>\n",
              "    </tr>\n",
              "  </tbody>\n",
              "</table>\n",
              "</div>\n",
              "      <button class=\"colab-df-convert\" onclick=\"convertToInteractive('df-c077e75f-414c-4643-81db-14c9dac8cf43')\"\n",
              "              title=\"Convert this dataframe to an interactive table.\"\n",
              "              style=\"display:none;\">\n",
              "        \n",
              "  <svg xmlns=\"http://www.w3.org/2000/svg\" height=\"24px\"viewBox=\"0 0 24 24\"\n",
              "       width=\"24px\">\n",
              "    <path d=\"M0 0h24v24H0V0z\" fill=\"none\"/>\n",
              "    <path d=\"M18.56 5.44l.94 2.06.94-2.06 2.06-.94-2.06-.94-.94-2.06-.94 2.06-2.06.94zm-11 1L8.5 8.5l.94-2.06 2.06-.94-2.06-.94L8.5 2.5l-.94 2.06-2.06.94zm10 10l.94 2.06.94-2.06 2.06-.94-2.06-.94-.94-2.06-.94 2.06-2.06.94z\"/><path d=\"M17.41 7.96l-1.37-1.37c-.4-.4-.92-.59-1.43-.59-.52 0-1.04.2-1.43.59L10.3 9.45l-7.72 7.72c-.78.78-.78 2.05 0 2.83L4 21.41c.39.39.9.59 1.41.59.51 0 1.02-.2 1.41-.59l7.78-7.78 2.81-2.81c.8-.78.8-2.07 0-2.86zM5.41 20L4 18.59l7.72-7.72 1.47 1.35L5.41 20z\"/>\n",
              "  </svg>\n",
              "      </button>\n",
              "      \n",
              "  <style>\n",
              "    .colab-df-container {\n",
              "      display:flex;\n",
              "      flex-wrap:wrap;\n",
              "      gap: 12px;\n",
              "    }\n",
              "\n",
              "    .colab-df-convert {\n",
              "      background-color: #E8F0FE;\n",
              "      border: none;\n",
              "      border-radius: 50%;\n",
              "      cursor: pointer;\n",
              "      display: none;\n",
              "      fill: #1967D2;\n",
              "      height: 32px;\n",
              "      padding: 0 0 0 0;\n",
              "      width: 32px;\n",
              "    }\n",
              "\n",
              "    .colab-df-convert:hover {\n",
              "      background-color: #E2EBFA;\n",
              "      box-shadow: 0px 1px 2px rgba(60, 64, 67, 0.3), 0px 1px 3px 1px rgba(60, 64, 67, 0.15);\n",
              "      fill: #174EA6;\n",
              "    }\n",
              "\n",
              "    [theme=dark] .colab-df-convert {\n",
              "      background-color: #3B4455;\n",
              "      fill: #D2E3FC;\n",
              "    }\n",
              "\n",
              "    [theme=dark] .colab-df-convert:hover {\n",
              "      background-color: #434B5C;\n",
              "      box-shadow: 0px 1px 3px 1px rgba(0, 0, 0, 0.15);\n",
              "      filter: drop-shadow(0px 1px 2px rgba(0, 0, 0, 0.3));\n",
              "      fill: #FFFFFF;\n",
              "    }\n",
              "  </style>\n",
              "\n",
              "      <script>\n",
              "        const buttonEl =\n",
              "          document.querySelector('#df-c077e75f-414c-4643-81db-14c9dac8cf43 button.colab-df-convert');\n",
              "        buttonEl.style.display =\n",
              "          google.colab.kernel.accessAllowed ? 'block' : 'none';\n",
              "\n",
              "        async function convertToInteractive(key) {\n",
              "          const element = document.querySelector('#df-c077e75f-414c-4643-81db-14c9dac8cf43');\n",
              "          const dataTable =\n",
              "            await google.colab.kernel.invokeFunction('convertToInteractive',\n",
              "                                                     [key], {});\n",
              "          if (!dataTable) return;\n",
              "\n",
              "          const docLinkHtml = 'Like what you see? Visit the ' +\n",
              "            '<a target=\"_blank\" href=https://colab.research.google.com/notebooks/data_table.ipynb>data table notebook</a>'\n",
              "            + ' to learn more about interactive tables.';\n",
              "          element.innerHTML = '';\n",
              "          dataTable['output_type'] = 'display_data';\n",
              "          await google.colab.output.renderOutput(dataTable, element);\n",
              "          const docLink = document.createElement('div');\n",
              "          docLink.innerHTML = docLinkHtml;\n",
              "          element.appendChild(docLink);\n",
              "        }\n",
              "      </script>\n",
              "    </div>\n",
              "  </div>\n",
              "  "
            ]
          },
          "metadata": {},
          "execution_count": 7
        }
      ]
    },
    {
      "cell_type": "markdown",
      "source": [
        "#Split into training and testing data. \n",
        "\n",
        "Definition: Features are the attributes of each data point entered into the model, and labels are what we are trying to predict.\n",
        "\n",
        "We first need to split our data into training and testing. If a machine learning model is trained and tested on the same section of data, the model can memorize the data and perform perfectly. This, however, does not give us a clear picture of how the model will perform in the real world. We want to test the model on a section of data that the model hasn't seen before. \n",
        "\n",
        "The features that we will enter into the model, and the target we want to predict are outlined below. Split the features and labels into training and testing, with 30% of our data being allocated toward testing. \n",
        "\n",
        "X_train and y_train are respectively the features and labels we will be training on, and X_test and y_test are the features and labels we will be testing on.  \n"
      ],
      "metadata": {
        "id": "befxC9bVD1X2"
      }
    },
    {
      "cell_type": "code",
      "source": [
        "#features we want to train on\n",
        "training_features = ['Infant mortality (per 1000 births)',\n",
        "       'Net migration', 'Pop. Density (per sq. mi.)', 'Literacy (%)',\n",
        "       'Phones (per 1000)', 'Birthrate', 'Agriculture', 'Industry',\n",
        "       'Service']\n",
        "\n",
        "#target we want to predict using the features (GDP)\n",
        "target = 'GDP ($ per capita)'\n",
        "\n",
        "#get the features we want to use from the main dataset, and the labels\n",
        "features = gdp_data[training_features]\n",
        "labels = gdp_data[target]\n",
        "\n",
        "#split the dataset into training and testing data\n",
        "X_train, X_test, y_train, y_test = train_test_split(features, labels, test_size=0.3, shuffle=True)"
      ],
      "metadata": {
        "id": "03WNVBPfEjYK"
      },
      "execution_count": null,
      "outputs": []
    },
    {
      "cell_type": "markdown",
      "source": [
        "#Training and Evaluation\n",
        "As discussed before, a nearest neighbors classifier takes in parameter for the number of neighbors. To recap, these are the closest n points to the new point that our model uses to make a decision. If a plurality of close points are a certain class, that is the predicted class of our new point. \n",
        "\n",
        "We use the sklearn .fit command, entering the training and testing data to tune the model toward better predictions. \n",
        "\n",
        "Next is the evaluation phase. We predict, for X_test (the testing features), outputs for each of these data points. Comparing these outputs of our ML model to actual values (y_test), we can find the average difference between the predicted outputs and the actual outputs. This is defined as mean absolute error. \n",
        "\n",
        "Because we want to test the difference between predicted outputs and actual outputs, both being continuous values, we will be using a regression version of a neighbors model called KNeighborsRegressor instead of KNeighborsClassifier."
      ],
      "metadata": {
        "id": "KWSteLIcBao8"
      }
    },
    {
      "cell_type": "code",
      "source": [
        "neigh = KNeighborsRegressor(n_neighbors=5)\n",
        "\n",
        "#fitting the model to our dataset\n",
        "neigh.fit(X_train, y_train)\n",
        "\n",
        "#getting all our predictions from the ML model\n",
        "predictions = neigh.predict(X_test)\n",
        "\n",
        "#average difference between the predicted outputs and the actual outputs\n",
        "print(mean_absolute_error(np.array(y_test), predictions))"
      ],
      "metadata": {
        "colab": {
          "base_uri": "https://localhost:8080/"
        },
        "id": "Sol1KLmVEkmy",
        "outputId": "496087a8-da2d-41c7-e58e-abae4491b597"
      },
      "execution_count": null,
      "outputs": [
        {
          "output_type": "stream",
          "name": "stdout",
          "text": [
            "0.5796610169491525\n"
          ]
        }
      ]
    },
    {
      "cell_type": "markdown",
      "source": [
        "Next, we want to cut our GDP per capita into five distinct classes, such as very poor, poor, average, wealthy, and very wealthy. This is to attempt classification of our dataset and visualize a confusion matrix of our results (explained later). To split a column into classes, we will be using the pd.qcut method. "
      ],
      "metadata": {
        "id": "1AdM-nnwETpv"
      }
    },
    {
      "cell_type": "code",
      "source": [
        "gdp_data['GDP ($ per capita)'] = pd.qcut(gdp_data['GDP ($ per capita)'], 5, labels=False)\n",
        "gdp_data.describe()"
      ],
      "metadata": {
        "id": "X-40CmUBFTQQ",
        "colab": {
          "base_uri": "https://localhost:8080/",
          "height": 396
        },
        "outputId": "25fe9db7-18ae-4d31-ada9-605b8af231b0"
      },
      "execution_count": null,
      "outputs": [
        {
          "output_type": "execute_result",
          "data": {
            "text/plain": [
              "       GDP ($ per capita)  Infant mortality (per 1000 births)  Net migration  \\\n",
              "count          195.000000                          195.000000     195.000000   \n",
              "mean             2.000000                           38.936846      -0.437077   \n",
              "std              1.417854                           36.382098       4.466701   \n",
              "min              0.000000                            2.290000     -20.990000   \n",
              "25%              1.000000                           10.020000      -1.315000   \n",
              "50%              2.000000                           24.310000       0.000000   \n",
              "75%              3.000000                           62.550000       0.305000   \n",
              "max              4.000000                          191.190000      23.060000   \n",
              "\n",
              "       Pop. Density (per sq. mi.)  Literacy (%)  Phones (per 1000)  \\\n",
              "count                  195.000000     195.00000         195.000000   \n",
              "mean                   201.308205      82.29641         198.387179   \n",
              "std                    667.646406      20.01014         199.670583   \n",
              "min                      0.000000      17.60000           0.200000   \n",
              "25%                     26.800000      69.95000          27.100000   \n",
              "50%                     69.800000      92.30000         131.800000   \n",
              "75%                    151.000000      98.00000         305.550000   \n",
              "max                   6482.200000     100.00000         898.000000   \n",
              "\n",
              "        Birthrate  Agriculture    Industry     Service  \n",
              "count  195.000000   195.000000  195.000000  195.000000  \n",
              "mean    22.889744     0.158349    0.293564    0.547195  \n",
              "std     11.359249     0.149453    0.135160    0.154904  \n",
              "min      7.290000     0.000000    0.040000    0.062000  \n",
              "25%     12.835000     0.039000    0.203500    0.425500  \n",
              "50%     20.690000     0.112000    0.275000    0.560000  \n",
              "75%     30.815000     0.231000    0.349000    0.665000  \n",
              "max     50.730000     0.769000    0.906000    0.906000  "
            ],
            "text/html": [
              "\n",
              "  <div id=\"df-d7cd1ce3-308b-4d8f-9001-198ae525cbaf\">\n",
              "    <div class=\"colab-df-container\">\n",
              "      <div>\n",
              "<style scoped>\n",
              "    .dataframe tbody tr th:only-of-type {\n",
              "        vertical-align: middle;\n",
              "    }\n",
              "\n",
              "    .dataframe tbody tr th {\n",
              "        vertical-align: top;\n",
              "    }\n",
              "\n",
              "    .dataframe thead th {\n",
              "        text-align: right;\n",
              "    }\n",
              "</style>\n",
              "<table border=\"1\" class=\"dataframe\">\n",
              "  <thead>\n",
              "    <tr style=\"text-align: right;\">\n",
              "      <th></th>\n",
              "      <th>GDP ($ per capita)</th>\n",
              "      <th>Infant mortality (per 1000 births)</th>\n",
              "      <th>Net migration</th>\n",
              "      <th>Pop. Density (per sq. mi.)</th>\n",
              "      <th>Literacy (%)</th>\n",
              "      <th>Phones (per 1000)</th>\n",
              "      <th>Birthrate</th>\n",
              "      <th>Agriculture</th>\n",
              "      <th>Industry</th>\n",
              "      <th>Service</th>\n",
              "    </tr>\n",
              "  </thead>\n",
              "  <tbody>\n",
              "    <tr>\n",
              "      <th>count</th>\n",
              "      <td>195.000000</td>\n",
              "      <td>195.000000</td>\n",
              "      <td>195.000000</td>\n",
              "      <td>195.000000</td>\n",
              "      <td>195.00000</td>\n",
              "      <td>195.000000</td>\n",
              "      <td>195.000000</td>\n",
              "      <td>195.000000</td>\n",
              "      <td>195.000000</td>\n",
              "      <td>195.000000</td>\n",
              "    </tr>\n",
              "    <tr>\n",
              "      <th>mean</th>\n",
              "      <td>2.000000</td>\n",
              "      <td>38.936846</td>\n",
              "      <td>-0.437077</td>\n",
              "      <td>201.308205</td>\n",
              "      <td>82.29641</td>\n",
              "      <td>198.387179</td>\n",
              "      <td>22.889744</td>\n",
              "      <td>0.158349</td>\n",
              "      <td>0.293564</td>\n",
              "      <td>0.547195</td>\n",
              "    </tr>\n",
              "    <tr>\n",
              "      <th>std</th>\n",
              "      <td>1.417854</td>\n",
              "      <td>36.382098</td>\n",
              "      <td>4.466701</td>\n",
              "      <td>667.646406</td>\n",
              "      <td>20.01014</td>\n",
              "      <td>199.670583</td>\n",
              "      <td>11.359249</td>\n",
              "      <td>0.149453</td>\n",
              "      <td>0.135160</td>\n",
              "      <td>0.154904</td>\n",
              "    </tr>\n",
              "    <tr>\n",
              "      <th>min</th>\n",
              "      <td>0.000000</td>\n",
              "      <td>2.290000</td>\n",
              "      <td>-20.990000</td>\n",
              "      <td>0.000000</td>\n",
              "      <td>17.60000</td>\n",
              "      <td>0.200000</td>\n",
              "      <td>7.290000</td>\n",
              "      <td>0.000000</td>\n",
              "      <td>0.040000</td>\n",
              "      <td>0.062000</td>\n",
              "    </tr>\n",
              "    <tr>\n",
              "      <th>25%</th>\n",
              "      <td>1.000000</td>\n",
              "      <td>10.020000</td>\n",
              "      <td>-1.315000</td>\n",
              "      <td>26.800000</td>\n",
              "      <td>69.95000</td>\n",
              "      <td>27.100000</td>\n",
              "      <td>12.835000</td>\n",
              "      <td>0.039000</td>\n",
              "      <td>0.203500</td>\n",
              "      <td>0.425500</td>\n",
              "    </tr>\n",
              "    <tr>\n",
              "      <th>50%</th>\n",
              "      <td>2.000000</td>\n",
              "      <td>24.310000</td>\n",
              "      <td>0.000000</td>\n",
              "      <td>69.800000</td>\n",
              "      <td>92.30000</td>\n",
              "      <td>131.800000</td>\n",
              "      <td>20.690000</td>\n",
              "      <td>0.112000</td>\n",
              "      <td>0.275000</td>\n",
              "      <td>0.560000</td>\n",
              "    </tr>\n",
              "    <tr>\n",
              "      <th>75%</th>\n",
              "      <td>3.000000</td>\n",
              "      <td>62.550000</td>\n",
              "      <td>0.305000</td>\n",
              "      <td>151.000000</td>\n",
              "      <td>98.00000</td>\n",
              "      <td>305.550000</td>\n",
              "      <td>30.815000</td>\n",
              "      <td>0.231000</td>\n",
              "      <td>0.349000</td>\n",
              "      <td>0.665000</td>\n",
              "    </tr>\n",
              "    <tr>\n",
              "      <th>max</th>\n",
              "      <td>4.000000</td>\n",
              "      <td>191.190000</td>\n",
              "      <td>23.060000</td>\n",
              "      <td>6482.200000</td>\n",
              "      <td>100.00000</td>\n",
              "      <td>898.000000</td>\n",
              "      <td>50.730000</td>\n",
              "      <td>0.769000</td>\n",
              "      <td>0.906000</td>\n",
              "      <td>0.906000</td>\n",
              "    </tr>\n",
              "  </tbody>\n",
              "</table>\n",
              "</div>\n",
              "      <button class=\"colab-df-convert\" onclick=\"convertToInteractive('df-d7cd1ce3-308b-4d8f-9001-198ae525cbaf')\"\n",
              "              title=\"Convert this dataframe to an interactive table.\"\n",
              "              style=\"display:none;\">\n",
              "        \n",
              "  <svg xmlns=\"http://www.w3.org/2000/svg\" height=\"24px\"viewBox=\"0 0 24 24\"\n",
              "       width=\"24px\">\n",
              "    <path d=\"M0 0h24v24H0V0z\" fill=\"none\"/>\n",
              "    <path d=\"M18.56 5.44l.94 2.06.94-2.06 2.06-.94-2.06-.94-.94-2.06-.94 2.06-2.06.94zm-11 1L8.5 8.5l.94-2.06 2.06-.94-2.06-.94L8.5 2.5l-.94 2.06-2.06.94zm10 10l.94 2.06.94-2.06 2.06-.94-2.06-.94-.94-2.06-.94 2.06-2.06.94z\"/><path d=\"M17.41 7.96l-1.37-1.37c-.4-.4-.92-.59-1.43-.59-.52 0-1.04.2-1.43.59L10.3 9.45l-7.72 7.72c-.78.78-.78 2.05 0 2.83L4 21.41c.39.39.9.59 1.41.59.51 0 1.02-.2 1.41-.59l7.78-7.78 2.81-2.81c.8-.78.8-2.07 0-2.86zM5.41 20L4 18.59l7.72-7.72 1.47 1.35L5.41 20z\"/>\n",
              "  </svg>\n",
              "      </button>\n",
              "      \n",
              "  <style>\n",
              "    .colab-df-container {\n",
              "      display:flex;\n",
              "      flex-wrap:wrap;\n",
              "      gap: 12px;\n",
              "    }\n",
              "\n",
              "    .colab-df-convert {\n",
              "      background-color: #E8F0FE;\n",
              "      border: none;\n",
              "      border-radius: 50%;\n",
              "      cursor: pointer;\n",
              "      display: none;\n",
              "      fill: #1967D2;\n",
              "      height: 32px;\n",
              "      padding: 0 0 0 0;\n",
              "      width: 32px;\n",
              "    }\n",
              "\n",
              "    .colab-df-convert:hover {\n",
              "      background-color: #E2EBFA;\n",
              "      box-shadow: 0px 1px 2px rgba(60, 64, 67, 0.3), 0px 1px 3px 1px rgba(60, 64, 67, 0.15);\n",
              "      fill: #174EA6;\n",
              "    }\n",
              "\n",
              "    [theme=dark] .colab-df-convert {\n",
              "      background-color: #3B4455;\n",
              "      fill: #D2E3FC;\n",
              "    }\n",
              "\n",
              "    [theme=dark] .colab-df-convert:hover {\n",
              "      background-color: #434B5C;\n",
              "      box-shadow: 0px 1px 3px 1px rgba(0, 0, 0, 0.15);\n",
              "      filter: drop-shadow(0px 1px 2px rgba(0, 0, 0, 0.3));\n",
              "      fill: #FFFFFF;\n",
              "    }\n",
              "  </style>\n",
              "\n",
              "      <script>\n",
              "        const buttonEl =\n",
              "          document.querySelector('#df-d7cd1ce3-308b-4d8f-9001-198ae525cbaf button.colab-df-convert');\n",
              "        buttonEl.style.display =\n",
              "          google.colab.kernel.accessAllowed ? 'block' : 'none';\n",
              "\n",
              "        async function convertToInteractive(key) {\n",
              "          const element = document.querySelector('#df-d7cd1ce3-308b-4d8f-9001-198ae525cbaf');\n",
              "          const dataTable =\n",
              "            await google.colab.kernel.invokeFunction('convertToInteractive',\n",
              "                                                     [key], {});\n",
              "          if (!dataTable) return;\n",
              "\n",
              "          const docLinkHtml = 'Like what you see? Visit the ' +\n",
              "            '<a target=\"_blank\" href=https://colab.research.google.com/notebooks/data_table.ipynb>data table notebook</a>'\n",
              "            + ' to learn more about interactive tables.';\n",
              "          element.innerHTML = '';\n",
              "          dataTable['output_type'] = 'display_data';\n",
              "          await google.colab.output.renderOutput(dataTable, element);\n",
              "          const docLink = document.createElement('div');\n",
              "          docLink.innerHTML = docLinkHtml;\n",
              "          element.appendChild(docLink);\n",
              "        }\n",
              "      </script>\n",
              "    </div>\n",
              "  </div>\n",
              "  "
            ]
          },
          "metadata": {},
          "execution_count": 31
        }
      ]
    },
    {
      "cell_type": "code",
      "source": [
        "### perform train test split on our new data ###\n",
        "\n",
        "#features we want to train on\n",
        "training_features = ['Infant mortality (per 1000 births)',\n",
        "       'Net migration', 'Pop. Density (per sq. mi.)', 'Literacy (%)',\n",
        "       'Phones (per 1000)', 'Birthrate', 'Agriculture', 'Industry',\n",
        "       'Service']\n",
        "\n",
        "#target we want to predict using the features (GDP)\n",
        "target = 'GDP ($ per capita)'\n",
        "\n",
        "#get the features we want to use from the main dataset, and the labels\n",
        "features = gdp_data[training_features]\n",
        "labels = gdp_data[target]\n",
        "\n",
        "#split the dataset into training and testing data\n",
        "X_train, X_test, y_train, y_test = train_test_split(features, labels, test_size=0.3, shuffle=True)"
      ],
      "metadata": {
        "id": "F6k28541S44R"
      },
      "execution_count": null,
      "outputs": []
    },
    {
      "cell_type": "code",
      "source": [
        "target"
      ],
      "metadata": {
        "colab": {
          "base_uri": "https://localhost:8080/",
          "height": 35
        },
        "id": "uU328n04EB_X",
        "outputId": "34eaa3b1-7f18-4c83-b5ca-6fe2c3028bdc"
      },
      "execution_count": null,
      "outputs": [
        {
          "output_type": "execute_result",
          "data": {
            "text/plain": [
              "'GDP ($ per capita)'"
            ],
            "application/vnd.google.colaboratory.intrinsic+json": {
              "type": "string"
            }
          },
          "metadata": {},
          "execution_count": 27
        }
      ]
    },
    {
      "cell_type": "code",
      "source": [
        "#view different classes in targets\n",
        "y_train[0:5]"
      ],
      "metadata": {
        "colab": {
          "base_uri": "https://localhost:8080/"
        },
        "id": "mv5Jx3KBC1nW",
        "outputId": "0f5a9a14-1626-4256-bcde-521f72442bd6"
      },
      "execution_count": null,
      "outputs": [
        {
          "output_type": "execute_result",
          "data": {
            "text/plain": [
              "171    4\n",
              "160    1\n",
              "40     0\n",
              "130    0\n",
              "125    0\n",
              "Name: GDP ($ per capita), dtype: int64"
            ]
          },
          "metadata": {},
          "execution_count": 35
        }
      ]
    },
    {
      "cell_type": "markdown",
      "source": [
        "To train on our new features and targets, we will use a KNeighborsClassifier because we are attempting to predict discrete categories, or classes, such as poor and wealthy. Otherwise, the training process is the exact same as above,so refer above for the explanation. \n",
        "\n",
        "Additionally, we will use a confusion matrix to visualize our results. "
      ],
      "metadata": {
        "id": "tjUltVboE4BR"
      }
    },
    {
      "cell_type": "code",
      "source": [
        "neigh = KNeighborsClassifier(n_neighbors=3)\n",
        "neigh.fit(X_train, y_train)\n",
        "predictions = neigh.predict(X_test)\n",
        "cf_matrix = confusion_matrix(np.array(y_test), predictions)\n",
        "cf_matrix"
      ],
      "metadata": {
        "colab": {
          "base_uri": "https://localhost:8080/"
        },
        "id": "C5m2VgMfmg9F",
        "outputId": "f3a248cd-8a78-4a79-828d-af02bdfe2439"
      },
      "execution_count": null,
      "outputs": [
        {
          "output_type": "execute_result",
          "data": {
            "text/plain": [
              "array([[ 6,  1,  1,  0,  0],\n",
              "       [ 5,  2,  3,  1,  0],\n",
              "       [ 1,  5,  4,  2,  0],\n",
              "       [ 0,  2,  7,  3,  0],\n",
              "       [ 0,  0,  2,  2, 12]])"
            ]
          },
          "metadata": {},
          "execution_count": 36
        }
      ]
    },
    {
      "cell_type": "markdown",
      "source": [
        "#Confusion Matrix\n",
        "A confusion matrix for a classification problem tells us the number of correct and incorrect predictions for every class (for example wealthy). More precisely, for every class in our dataset, the confusion matrix will tell us how many true examples in that class were predicted as each other class. \n",
        "\n",
        "As an arbitrary example, the model may have classified 10 countries with average GDP as average and 1 country with average GDP as wealthy, and 3 countries with average GDP as poor. \n",
        "\n",
        "To show this, we will use a seaborn heatmap. "
      ],
      "metadata": {
        "id": "ZlShTynXGj7q"
      }
    },
    {
      "cell_type": "code",
      "source": [
        "#heatmap of confusion matrix\n",
        "ax = sns.heatmap(cf_matrix, annot=True, cmap='Blues')\n",
        "\n",
        "#title and axis labels\n",
        "ax.set_title('Wealth of Countries\\n\\n')\n",
        "ax.set_xlabel('\\nPredicted Values')\n",
        "ax.set_ylabel('Actual Values')\n",
        "\n",
        "## Ticket labels of every class - List must be in alphabetical order\n",
        "ax.xaxis.set_ticklabels(['Very\\nWealthy','Wealthy','Average','Poor','Very Poor'])\n",
        "ax.yaxis.set_ticklabels(['Very\\n Wealthy','Wealthy','Average','Poor','Very Poor'])\n",
        "\n",
        "## Display the visualization of the Confusion Matrix.\n",
        "plt.show()"
      ],
      "metadata": {
        "colab": {
          "base_uri": "https://localhost:8080/",
          "height": 349
        },
        "id": "qdwbXvkt_Eh-",
        "outputId": "d5c2bc9b-7375-4762-9245-05c68640f714"
      },
      "execution_count": null,
      "outputs": [
        {
          "output_type": "display_data",
          "data": {
            "text/plain": [
              "<Figure size 432x288 with 2 Axes>"
            ],
            "image/png": "[encoded data removed]"
          },
          "metadata": {
            "needs_background": "light"
          }
        }
      ]
    },
    {
      "cell_type": "markdown",
      "source": [
        "Finally, we will show each of the values in the confusion matrix as a percentage of the total predictions for the class in question. For example, average GDP countries predicted as wealthy will be shown as a percentage of the total countries with average GDP. "
      ],
      "metadata": {
        "id": "eBhP6ZFdG1yS"
      }
    },
    {
      "cell_type": "code",
      "source": [
        "#converting all the confusion matrix values to percentages\n",
        "cf_matrix = confusion_matrix(np.array(y_test), predictions)\n",
        "percent_matrix = []\n",
        "for i in range(len(cf_matrix)):\n",
        "  percent_matrix.append(cf_matrix[i]/sum(cf_matrix[i]))\n",
        "\n",
        "ax = sns.heatmap(percent_matrix, annot=True, cmap='Blues', fmt='.2%')\n",
        "\n",
        "ax.set_title('Wealth of Countries\\n\\n')\n",
        "ax.set_xlabel('\\nPredicted Values')\n",
        "ax.set_ylabel('Actual Values')\n",
        "\n",
        "ax.xaxis.set_ticklabels(['Very Poor','Poor','Average','Wealthy','Very\\nWealthy'])\n",
        "ax.yaxis.set_ticklabels(['Very Poor','Poor','Average','Wealthy','Very\\nWealthy'])\n",
        "\n",
        "plt.show()"
      ],
      "metadata": {
        "colab": {
          "base_uri": "https://localhost:8080/",
          "height": 349
        },
        "id": "Bzcy9CfxTImN",
        "outputId": "7f762d5e-ddf2-4292-eae8-e5240b3cab8f"
      },
      "execution_count": null,
      "outputs": [
        {
          "output_type": "display_data",
          "data": {
            "text/plain": [
              "<Figure size 432x288 with 2 Axes>"
            ],
            "image/png": "[encoded data removed]"
          },
          "metadata": {
            "needs_background": "light"
          }
        }
      ]
    },
    {
      "cell_type": "markdown",
      "source": [
        "##Accuracy score\n",
        "One final metric that we could use is accuracy score, for categorical predictions. Accuracy score is simply the number of correct predictions over the total number of predictions. For example, a 100% accuracy (while suspicious) means that our model got 100% of the testing examples correct. "
      ],
      "metadata": {
        "id": "xfR2vxhtHJYH"
      }
    },
    {
      "cell_type": "code",
      "source": [
        "accuracy_score(np.array(y_test), predictions)"
      ],
      "metadata": {
        "colab": {
          "base_uri": "https://localhost:8080/"
        },
        "id": "Q1fneFoQTIf7",
        "outputId": "b61e58fa-d10f-40a5-bbed-e5f060c74b0f"
      },
      "execution_count": null,
      "outputs": [
        {
          "output_type": "execute_result",
          "data": {
            "text/plain": [
              "0.4067796610169492"
            ]
          },
          "metadata": {},
          "execution_count": 41
        }
      ]
    }
  ]
}
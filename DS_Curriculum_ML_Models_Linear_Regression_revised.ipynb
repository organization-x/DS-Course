{
  "cells": [
    {
      "cell_type": "markdown",
      "metadata": {
        "id": "Jl8KgxgUA90B"
      },
      "source": [
        "### In this notebook we will briefly talk about what linear regression is and then apply it to our data (GDP per capita) and then we will evaluate our model"
      ]
    },
    {
      "cell_type": "markdown",
      "metadata": {},
      "source": [
        "NOTE: We will both tackle CLASSIFICATION and REGRESSION problems"
      ]
    },
    {
      "cell_type": "markdown",
      "metadata": {},
      "source": [
        "CLASSIFICATION: ML problem in which the output variable is a category, in discrete numerical values"
      ]
    },
    {
      "cell_type": "markdown",
      "metadata": {},
      "source": [
        "REGRESSION: ML problem in which the model predicted output is a continuous numerical value"
      ]
    },
    {
      "cell_type": "code",
      "execution_count": 2,
      "metadata": {
        "id": "CEy_jaT3ARNG"
      },
      "outputs": [],
      "source": [
        "# Import Dependencies\n",
        "import numpy as np\n",
        "import pandas as pd\n",
        "import seaborn as sns\n",
        "from matplotlib import pyplot as plt\n",
        "import math\n",
        "\n",
        "from sklearn.preprocessing import LabelEncoder\n",
        "from sklearn.model_selection import train_test_split\n",
        "from sklearn.linear_model import LinearRegression\n",
        "from sklearn.tree import DecisionTreeRegressor\n",
        "from sklearn.ensemble import RandomForestRegressor\n",
        "from sklearn.metrics import mean_squared_error, mean_squared_log_error, mean_absolute_error, accuracy_score\n",
        "\n",
        "from sklearn.metrics import confusion_matrix"
      ]
    },
    {
      "cell_type": "markdown",
      "metadata": {
        "id": "7THbZvWTxNGY"
      },
      "source": [
        "Next, we import the functions from our original data exploration notebook. These will be used to get our data clean enough to be fed to our models."
      ]
    },
    {
      "cell_type": "code",
      "execution_count": 6,
      "metadata": {
        "id": "6xFcY5qCRXUr"
      },
      "outputs": [],
      "source": [
        "# FUNCTIONS FROM SECTION 1\n",
        "\n",
        "def merge_data(country_data, height_data):\n",
        "  height_data = height_data.rename(columns={\"Country Name\" : \"Country\"})\n",
        "  country_data['Country'] = country_data.apply(lambda row : row.astype(str)['Country'][:-1], axis=1)\n",
        "  old_names = ['Antigua & Barbuda', 'Bahamas, The', 'Bosnia & Herzegovina', 'Central African Rep.', 'Congo, Dem. Rep.', 'Swaziland', 'Gambia, The', 'Cote d\\'Ivoire',\n",
        "             'Micronesia, Fed. St.', 'Burma', 'Korea, North', 'Macedonia', 'Congo, Repub. of the', 'Saint Kitts & Nevis', 'Sao Tome & Principe',\n",
        "             'Korea, South', 'East Timor', 'Trinidad & Tobago']\n",
        "\n",
        "  new_names = ['Antigua and Barbuda', 'Bahamas', 'Bosnia and Herzegovina', 'Central African Republic', 'DR Congo', 'Eswatini', 'Gambia', 'Ivory Coast', 'Micronesia',\n",
        "              'Myanmar', 'North Korea', 'North Macedonia', 'Republic of the Congo', 'Saint Kitts and Nevis', 'Sao Tome and Principe', 'South Korea',\n",
        "              'Timor-Leste', 'Trinidad and Tobago']\n",
        "\n",
        "  for i in range(len(old_names)):\n",
        "    country_data['Country'].replace({old_names[i]: new_names[i]}, inplace=True)\n",
        "  \n",
        "  merged_df = pd.merge(country_data, height_data, on=['Country'])\n",
        "  return merged_df\n",
        "\n",
        "# FUNCTIONS FROM SECTION 2\n",
        "\n",
        "def rename_regions(row):\n",
        "  if row['Region'] == 'ASIA (EX. NEAR EAST)':\n",
        "    region = 'ASIA'\n",
        "  elif row['Region'] == 'NEAR EAST':\n",
        "    region = 'MIDDLE EAST'\n",
        "  elif row['Region'] == 'C.W. OF IND. STATES':\n",
        "    region = \"C.W.I. STATES\"\n",
        "  else:\n",
        "    region = row['Region']\n",
        "  return region\n",
        "\n",
        "def format_and_clean_data(merged_data):\n",
        "  merged_data['Region'] = merged_data.apply(lambda row : row.astype(str)['Region'].strip(), axis=1)\n",
        "  merged_data['Region'] = merged_data.apply(lambda row : rename_regions(row), axis=1)\n",
        "\n",
        "  for col in merged_data.columns.values:\n",
        "    if merged_data[col].isnull().sum() == 0:\n",
        "        continue\n",
        "    if col == 'Climate':\n",
        "        guess_values = merged_data.groupby('Region')['Climate'].apply(lambda x: x.mode().max())\n",
        "    else:\n",
        "        guess_values = merged_data.groupby('Region')[col].median()\n",
        "    for region in merged_data['Region'].unique():\n",
        "        merged_data[col].loc[(merged_data[col].isnull())&(merged_data['Region']==region)] = guess_values[region]\n",
        "  return merged_data\n",
        "\n",
        "# FUNCTIONS FROM SECTION 3\n",
        "\n",
        "def get_gdp_dataset(merged_data):\n",
        "  merged_data = merged_data.drop(['Male Height in Cm', 'Female Height in Cm'], axis=1)\n",
        "  merged_data['Average Height in Ft'] = merged_data['Female Height in Ft'] / 2 + merged_data['Male Height in Ft'] / 2\n",
        "  merged_data = merged_data.drop(['Male Height in Ft', 'Female Height in Ft'], axis=1)\n",
        "\n",
        "  GDP_features = ['GDP ($ per capita)', 'Infant mortality (per 1000 births)', 'Net migration', 'Pop. Density (per sq. mi.)',\n",
        "                'Literacy (%)', 'Phones (per 1000)', 'Birthrate', 'Agriculture', 'Industry', 'Service']\n",
        "  gdp_data = merged_data[GDP_features]\n",
        "  \n",
        "  return gdp_data\n",
        "\n",
        "def get_height_dataset(merged_data):\n",
        "  merged_data = merged_data.drop(['Male Height in Cm', 'Female Height in Cm'], axis=1)\n",
        "  merged_data['Average Height in Ft'] = merged_data['Female Height in Ft'] / 2 + merged_data['Male Height in Ft'] / 2\n",
        "  merged_data = merged_data.drop(['Male Height in Ft', 'Female Height in Ft'], axis=1)\n",
        "\n",
        "  height_features = ['Average Height in Ft', 'Agriculture', 'Service', 'Phones (per 1000)', 'GDP ($ per capita)', 'Literacy (%)']\n",
        "  avg_height_data = merged_data[height_features]\n",
        "\n",
        "  return avg_height_data"
      ]
    },
    {
      "cell_type": "markdown",
      "metadata": {
        "id": "DV0n6sF4x1T3"
      },
      "source": [
        "Let's get to data preprocessing! First we will use pandas (pd) to read our csv files. Then, we can manipulate the functions above to clean out data."
      ]
    },
    {
      "cell_type": "code",
      "execution_count": null,
      "metadata": {
        "colab": {
          "base_uri": "https://localhost:8080/",
          "height": 293
        },
        "id": "P5oD_3UoRiZ8",
        "outputId": "9adf0dd1-f270-4491-d069-0f2fd0d6f8eb"
      },
      "outputs": [],
      "source": [
        "height_data = pd.read_csv('../content/sample_data/Height of Male and Female by Country 2022.csv')\n",
        "country_data = pd.read_csv('../content/sample_data/countries of the world.csv', decimal=',')\n",
        "\n",
        "merged_data = merge_data(country_data, height_data)\n",
        "merged_data = format_and_clean_data(merged_data)\n",
        "gdp_data = get_gdp_dataset(merged_data)\n",
        "avg_height_data = get_height_dataset(merged_data)\n",
        "\n",
        "gdp_data.head()"
      ]
    },
    {
      "cell_type": "markdown",
      "metadata": {},
      "source": [
        "Features: the input data/variables our ML model takes in to make prediction"
      ]
    },
    {
      "cell_type": "markdown",
      "metadata": {},
      "source": [
        "Target: the output data/variables our ML model aims to predict"
      ]
    },
    {
      "cell_type": "markdown",
      "metadata": {
        "id": "LRW7vztqyFKB"
      },
      "source": [
        "Whenever we train a model, its important to split it up into a training data set and a test data set. The main reason we do this is to make sure that the model learns the patterns in the data instead of just memorizing the entire dataset. Basically, we want to make sure that the model doesn't overfit on the data. Its like when you get a review for a test, you are given questions that are similar to the test but not the exact same question to make sure you can't just memorize the questions on the review."
      ]
    },
    {
      "cell_type": "markdown",
      "metadata": {},
      "source": [
        "### Overfitting: happens when a model learns the detail and noise in the training data to the extent that it negatively impacts the performance of the model on new data"
      ]
    },
    {
      "cell_type": "markdown",
      "metadata": {},
      "source": [
        "For this example, 70% of our data will consist of training data, while the rest of 30% will be testing data"
      ]
    },
    {
      "cell_type": "markdown",
      "metadata": {},
      "source": [
        "train_X and train_Y will be the training feature, target respectively. test_X and test_Y will be the testing feature, target respectively."
      ]
    },
    {
      "cell_type": "markdown",
      "metadata": {},
      "source": [
        "We're also shuffling our data so that every data entry has an equal chance of being selected for testing data, incase certain groups of data were concentrated"
      ]
    },
    {
      "cell_type": "code",
      "execution_count": 21,
      "metadata": {
        "id": "XVVkx0SSR-9G"
      },
      "outputs": [],
      "source": [
        "train, test = train_test_split(gdp_data, test_size=0.3, shuffle=True)\n",
        "# The Different class of inputs\n",
        "# In this scenario, our model can learn from 9 features\n",
        "\n",
        "training_features = ['Infant mortality (per 1000 births)',\n",
        "                     'Net migration', 'Pop. Density (per sq. mi.)',\n",
        "                     'Literacy (%)', 'Phones (per 1000)', 'Birthrate',\n",
        "                     'Agriculture', 'Industry', 'Service']\n",
        "\n",
        "# The target we would like our model to predict\n",
        "# In this scenario, our model will only predict one target\n",
        "target = 'GDP ($ per capita)'\n",
        "train_X = train[training_features] # 136 instances of data, each with 9 features\n",
        "train_Y = train[target] # 136 instances of data, each with 1 target\n",
        "test_X = test[training_features] # 59 instances of data, each with 9 features\n",
        "test_Y = test[target] # 59 instances of data, each with 1 target"
      ]
    },
    {
      "cell_type": "code",
      "execution_count": 25,
      "metadata": {},
      "outputs": [
        {
          "name": "stdout",
          "output_type": "stream",
          "text": [
            "(136, 9)\n"
          ]
        },
        {
          "data": {
            "text/html": [
              "<div>\n",
              "<style scoped>\n",
              "    .dataframe tbody tr th:only-of-type {\n",
              "        vertical-align: middle;\n",
              "    }\n",
              "\n",
              "    .dataframe tbody tr th {\n",
              "        vertical-align: top;\n",
              "    }\n",
              "\n",
              "    .dataframe thead th {\n",
              "        text-align: right;\n",
              "    }\n",
              "</style>\n",
              "<table border=\"1\" class=\"dataframe\">\n",
              "  <thead>\n",
              "    <tr style=\"text-align: right;\">\n",
              "      <th></th>\n",
              "      <th>Infant mortality (per 1000 births)</th>\n",
              "      <th>Net migration</th>\n",
              "      <th>Pop. Density (per sq. mi.)</th>\n",
              "      <th>Literacy (%)</th>\n",
              "      <th>Phones (per 1000)</th>\n",
              "      <th>Birthrate</th>\n",
              "      <th>Agriculture</th>\n",
              "      <th>Industry</th>\n",
              "      <th>Service</th>\n",
              "    </tr>\n",
              "  </thead>\n",
              "  <tbody>\n",
              "    <tr>\n",
              "      <th>17</th>\n",
              "      <td>4.68</td>\n",
              "      <td>1.23</td>\n",
              "      <td>340.0</td>\n",
              "      <td>98.0</td>\n",
              "      <td>462.6</td>\n",
              "      <td>10.38</td>\n",
              "      <td>0.010</td>\n",
              "      <td>0.240</td>\n",
              "      <td>0.749</td>\n",
              "    </tr>\n",
              "    <tr>\n",
              "      <th>49</th>\n",
              "      <td>4.56</td>\n",
              "      <td>2.48</td>\n",
              "      <td>126.5</td>\n",
              "      <td>100.0</td>\n",
              "      <td>614.6</td>\n",
              "      <td>11.13</td>\n",
              "      <td>0.018</td>\n",
              "      <td>0.246</td>\n",
              "      <td>0.735</td>\n",
              "    </tr>\n",
              "    <tr>\n",
              "      <th>35</th>\n",
              "      <td>93.82</td>\n",
              "      <td>-0.11</td>\n",
              "      <td>7.7</td>\n",
              "      <td>47.5</td>\n",
              "      <td>1.3</td>\n",
              "      <td>45.73</td>\n",
              "      <td>0.335</td>\n",
              "      <td>0.259</td>\n",
              "      <td>0.406</td>\n",
              "    </tr>\n",
              "    <tr>\n",
              "      <th>91</th>\n",
              "      <td>17.35</td>\n",
              "      <td>6.59</td>\n",
              "      <td>64.0</td>\n",
              "      <td>91.3</td>\n",
              "      <td>104.5</td>\n",
              "      <td>21.25</td>\n",
              "      <td>0.033</td>\n",
              "      <td>0.287</td>\n",
              "      <td>0.680</td>\n",
              "    </tr>\n",
              "    <tr>\n",
              "      <th>1</th>\n",
              "      <td>21.52</td>\n",
              "      <td>-4.93</td>\n",
              "      <td>124.6</td>\n",
              "      <td>86.5</td>\n",
              "      <td>71.2</td>\n",
              "      <td>15.11</td>\n",
              "      <td>0.232</td>\n",
              "      <td>0.188</td>\n",
              "      <td>0.579</td>\n",
              "    </tr>\n",
              "    <tr>\n",
              "      <th>...</th>\n",
              "      <td>...</td>\n",
              "      <td>...</td>\n",
              "      <td>...</td>\n",
              "      <td>...</td>\n",
              "      <td>...</td>\n",
              "      <td>...</td>\n",
              "      <td>...</td>\n",
              "      <td>...</td>\n",
              "      <td>...</td>\n",
              "    </tr>\n",
              "    <tr>\n",
              "      <th>139</th>\n",
              "      <td>23.51</td>\n",
              "      <td>-1.50</td>\n",
              "      <td>298.2</td>\n",
              "      <td>92.6</td>\n",
              "      <td>38.4</td>\n",
              "      <td>24.89</td>\n",
              "      <td>0.144</td>\n",
              "      <td>0.326</td>\n",
              "      <td>0.530</td>\n",
              "    </tr>\n",
              "    <tr>\n",
              "      <th>106</th>\n",
              "      <td>4.81</td>\n",
              "      <td>8.97</td>\n",
              "      <td>183.5</td>\n",
              "      <td>100.0</td>\n",
              "      <td>515.4</td>\n",
              "      <td>11.94</td>\n",
              "      <td>0.010</td>\n",
              "      <td>0.130</td>\n",
              "      <td>0.860</td>\n",
              "    </tr>\n",
              "    <tr>\n",
              "      <th>178</th>\n",
              "      <td>24.77</td>\n",
              "      <td>-0.57</td>\n",
              "      <td>62.2</td>\n",
              "      <td>74.2</td>\n",
              "      <td>123.6</td>\n",
              "      <td>15.52</td>\n",
              "      <td>0.132</td>\n",
              "      <td>0.318</td>\n",
              "      <td>0.550</td>\n",
              "    </tr>\n",
              "    <tr>\n",
              "      <th>43</th>\n",
              "      <td>9.95</td>\n",
              "      <td>0.51</td>\n",
              "      <td>79.8</td>\n",
              "      <td>96.0</td>\n",
              "      <td>340.7</td>\n",
              "      <td>18.32</td>\n",
              "      <td>0.088</td>\n",
              "      <td>0.299</td>\n",
              "      <td>0.614</td>\n",
              "    </tr>\n",
              "    <tr>\n",
              "      <th>56</th>\n",
              "      <td>25.10</td>\n",
              "      <td>-3.74</td>\n",
              "      <td>324.3</td>\n",
              "      <td>80.2</td>\n",
              "      <td>142.4</td>\n",
              "      <td>26.61</td>\n",
              "      <td>0.099</td>\n",
              "      <td>0.302</td>\n",
              "      <td>0.599</td>\n",
              "    </tr>\n",
              "  </tbody>\n",
              "</table>\n",
              "<p>136 rows × 9 columns</p>\n",
              "</div>"
            ],
            "text/plain": [
              "     Infant mortality (per 1000 births)  Net migration  \\\n",
              "17                                 4.68           1.23   \n",
              "49                                 4.56           2.48   \n",
              "35                                93.82          -0.11   \n",
              "91                                17.35           6.59   \n",
              "1                                 21.52          -4.93   \n",
              "..                                  ...            ...   \n",
              "139                               23.51          -1.50   \n",
              "106                                4.81           8.97   \n",
              "178                               24.77          -0.57   \n",
              "43                                 9.95           0.51   \n",
              "56                                25.10          -3.74   \n",
              "\n",
              "     Pop. Density (per sq. mi.)  Literacy (%)  Phones (per 1000)  Birthrate  \\\n",
              "17                        340.0          98.0              462.6      10.38   \n",
              "49                        126.5         100.0              614.6      11.13   \n",
              "35                          7.7          47.5                1.3      45.73   \n",
              "91                         64.0          91.3              104.5      21.25   \n",
              "1                         124.6          86.5               71.2      15.11   \n",
              "..                          ...           ...                ...        ...   \n",
              "139                       298.2          92.6               38.4      24.89   \n",
              "106                       183.5         100.0              515.4      11.94   \n",
              "178                        62.2          74.2              123.6      15.52   \n",
              "43                         79.8          96.0              340.7      18.32   \n",
              "56                        324.3          80.2              142.4      26.61   \n",
              "\n",
              "     Agriculture  Industry  Service  \n",
              "17         0.010     0.240    0.749  \n",
              "49         0.018     0.246    0.735  \n",
              "35         0.335     0.259    0.406  \n",
              "91         0.033     0.287    0.680  \n",
              "1          0.232     0.188    0.579  \n",
              "..           ...       ...      ...  \n",
              "139        0.144     0.326    0.530  \n",
              "106        0.010     0.130    0.860  \n",
              "178        0.132     0.318    0.550  \n",
              "43         0.088     0.299    0.614  \n",
              "56         0.099     0.302    0.599  \n",
              "\n",
              "[136 rows x 9 columns]"
            ]
          },
          "execution_count": 25,
          "metadata": {},
          "output_type": "execute_result"
        }
      ],
      "source": [
        "# This tells us that we have 136 sets of training data and have 9 features each\n",
        "print(train_X.shape) # 136 rows and 9 columns\n",
        "train_X"
      ]
    },
    {
      "cell_type": "markdown",
      "metadata": {
        "id": "3l01DMVKzm77"
      },
      "source": [
        "In the next block, we create our model using sklearn. Sklearn makes it super easy to set up the model and train it on the data, simply create the model and then give it the training data and it will start to learn. After the model is trained, we feed it the test data and compare its answers to the actual answers. This allows us to evaluate how good of a model it is. For our first metric we are using mean absolute error. This is how far from the correct answer the model is on average. Then we use the .describe() function to see what the standard diviation of the dataset to get a better idea of how good or bad the mean average error is in relation to the actual dataset."
      ]
    },
    {
      "cell_type": "markdown",
      "metadata": {},
      "source": [
        "Linear Regression estimates the relationship between one independent variable and one dependent variable using a straight line. Both variables should be quantitative. Learn more here: https://www.youtube.com/watch?v=WWqE7YHR4Jc"
      ]
    },
    {
      "cell_type": "markdown",
      "metadata": {},
      "source": [
        "Keep in mind, Linear Regression isn't the best model out there for classification problems, but for the sake of demonstration, we will use it here."
      ]
    },
    {
      "cell_type": "markdown",
      "metadata": {},
      "source": [
        "For this REGRESSION Problem, we will evaluate our model with the metric MAE(Mean Absolute Error)"
      ]
    },
    {
      "cell_type": "markdown",
      "metadata": {},
      "source": [
        "MAE: the magnitude of difference between the prediction of an observation and the true value of that observation. Calculation: Find all of your absolute errors: absolute value of -> (Actual Value — Predicted Value). Add them all up. Divide by the number of errors."
      ]
    },
    {
      "cell_type": "code",
      "execution_count": 26,
      "metadata": {
        "colab": {
          "base_uri": "https://localhost:8080/",
          "height": 352
        },
        "id": "Kr9aNs_CSJJi",
        "outputId": "10485e78-6087-42ac-8998-7c004046587c"
      },
      "outputs": [
        {
          "name": "stdout",
          "output_type": "stream",
          "text": [
            "2856.2182345056967\n"
          ]
        },
        {
          "data": {
            "text/html": [
              "<div>\n",
              "<style scoped>\n",
              "    .dataframe tbody tr th:only-of-type {\n",
              "        vertical-align: middle;\n",
              "    }\n",
              "\n",
              "    .dataframe tbody tr th {\n",
              "        vertical-align: top;\n",
              "    }\n",
              "\n",
              "    .dataframe thead th {\n",
              "        text-align: right;\n",
              "    }\n",
              "</style>\n",
              "<table border=\"1\" class=\"dataframe\">\n",
              "  <thead>\n",
              "    <tr style=\"text-align: right;\">\n",
              "      <th></th>\n",
              "      <th>GDP ($ per capita)</th>\n",
              "      <th>Infant mortality (per 1000 births)</th>\n",
              "      <th>Net migration</th>\n",
              "      <th>Pop. Density (per sq. mi.)</th>\n",
              "      <th>Literacy (%)</th>\n",
              "      <th>Phones (per 1000)</th>\n",
              "      <th>Birthrate</th>\n",
              "      <th>Agriculture</th>\n",
              "      <th>Industry</th>\n",
              "      <th>Service</th>\n",
              "    </tr>\n",
              "  </thead>\n",
              "  <tbody>\n",
              "    <tr>\n",
              "      <th>count</th>\n",
              "      <td>195.000000</td>\n",
              "      <td>195.000000</td>\n",
              "      <td>195.000000</td>\n",
              "      <td>195.000000</td>\n",
              "      <td>195.00000</td>\n",
              "      <td>195.000000</td>\n",
              "      <td>195.000000</td>\n",
              "      <td>195.000000</td>\n",
              "      <td>195.000000</td>\n",
              "      <td>195.000000</td>\n",
              "    </tr>\n",
              "    <tr>\n",
              "      <th>mean</th>\n",
              "      <td>8953.333333</td>\n",
              "      <td>38.936846</td>\n",
              "      <td>-0.437077</td>\n",
              "      <td>201.308205</td>\n",
              "      <td>82.29641</td>\n",
              "      <td>198.387179</td>\n",
              "      <td>22.889744</td>\n",
              "      <td>0.158349</td>\n",
              "      <td>0.293564</td>\n",
              "      <td>0.547195</td>\n",
              "    </tr>\n",
              "    <tr>\n",
              "      <th>std</th>\n",
              "      <td>9894.829779</td>\n",
              "      <td>36.382098</td>\n",
              "      <td>4.466701</td>\n",
              "      <td>667.646406</td>\n",
              "      <td>20.01014</td>\n",
              "      <td>199.670583</td>\n",
              "      <td>11.359249</td>\n",
              "      <td>0.149453</td>\n",
              "      <td>0.135160</td>\n",
              "      <td>0.154904</td>\n",
              "    </tr>\n",
              "    <tr>\n",
              "      <th>min</th>\n",
              "      <td>500.000000</td>\n",
              "      <td>2.290000</td>\n",
              "      <td>-20.990000</td>\n",
              "      <td>0.000000</td>\n",
              "      <td>17.60000</td>\n",
              "      <td>0.200000</td>\n",
              "      <td>7.290000</td>\n",
              "      <td>0.000000</td>\n",
              "      <td>0.040000</td>\n",
              "      <td>0.062000</td>\n",
              "    </tr>\n",
              "    <tr>\n",
              "      <th>25%</th>\n",
              "      <td>1800.000000</td>\n",
              "      <td>10.020000</td>\n",
              "      <td>-1.315000</td>\n",
              "      <td>26.800000</td>\n",
              "      <td>69.95000</td>\n",
              "      <td>27.100000</td>\n",
              "      <td>12.835000</td>\n",
              "      <td>0.039000</td>\n",
              "      <td>0.203500</td>\n",
              "      <td>0.425500</td>\n",
              "    </tr>\n",
              "    <tr>\n",
              "      <th>50%</th>\n",
              "      <td>5000.000000</td>\n",
              "      <td>24.310000</td>\n",
              "      <td>0.000000</td>\n",
              "      <td>69.800000</td>\n",
              "      <td>92.30000</td>\n",
              "      <td>131.800000</td>\n",
              "      <td>20.690000</td>\n",
              "      <td>0.112000</td>\n",
              "      <td>0.275000</td>\n",
              "      <td>0.560000</td>\n",
              "    </tr>\n",
              "    <tr>\n",
              "      <th>75%</th>\n",
              "      <td>12050.000000</td>\n",
              "      <td>62.550000</td>\n",
              "      <td>0.305000</td>\n",
              "      <td>151.000000</td>\n",
              "      <td>98.00000</td>\n",
              "      <td>305.550000</td>\n",
              "      <td>30.815000</td>\n",
              "      <td>0.231000</td>\n",
              "      <td>0.349000</td>\n",
              "      <td>0.665000</td>\n",
              "    </tr>\n",
              "    <tr>\n",
              "      <th>max</th>\n",
              "      <td>55100.000000</td>\n",
              "      <td>191.190000</td>\n",
              "      <td>23.060000</td>\n",
              "      <td>6482.200000</td>\n",
              "      <td>100.00000</td>\n",
              "      <td>898.000000</td>\n",
              "      <td>50.730000</td>\n",
              "      <td>0.769000</td>\n",
              "      <td>0.906000</td>\n",
              "      <td>0.906000</td>\n",
              "    </tr>\n",
              "  </tbody>\n",
              "</table>\n",
              "</div>"
            ],
            "text/plain": [
              "       GDP ($ per capita)  Infant mortality (per 1000 births)  Net migration  \\\n",
              "count          195.000000                          195.000000     195.000000   \n",
              "mean          8953.333333                           38.936846      -0.437077   \n",
              "std           9894.829779                           36.382098       4.466701   \n",
              "min            500.000000                            2.290000     -20.990000   \n",
              "25%           1800.000000                           10.020000      -1.315000   \n",
              "50%           5000.000000                           24.310000       0.000000   \n",
              "75%          12050.000000                           62.550000       0.305000   \n",
              "max          55100.000000                          191.190000      23.060000   \n",
              "\n",
              "       Pop. Density (per sq. mi.)  Literacy (%)  Phones (per 1000)  \\\n",
              "count                  195.000000     195.00000         195.000000   \n",
              "mean                   201.308205      82.29641         198.387179   \n",
              "std                    667.646406      20.01014         199.670583   \n",
              "min                      0.000000      17.60000           0.200000   \n",
              "25%                     26.800000      69.95000          27.100000   \n",
              "50%                     69.800000      92.30000         131.800000   \n",
              "75%                    151.000000      98.00000         305.550000   \n",
              "max                   6482.200000     100.00000         898.000000   \n",
              "\n",
              "        Birthrate  Agriculture    Industry     Service  \n",
              "count  195.000000   195.000000  195.000000  195.000000  \n",
              "mean    22.889744     0.158349    0.293564    0.547195  \n",
              "std     11.359249     0.149453    0.135160    0.154904  \n",
              "min      7.290000     0.000000    0.040000    0.062000  \n",
              "25%     12.835000     0.039000    0.203500    0.425500  \n",
              "50%     20.690000     0.112000    0.275000    0.560000  \n",
              "75%     30.815000     0.231000    0.349000    0.665000  \n",
              "max     50.730000     0.769000    0.906000    0.906000  "
            ]
          },
          "execution_count": 26,
          "metadata": {},
          "output_type": "execute_result"
        }
      ],
      "source": [
        "# Let's tackle an CLASSIFICATION problem with Linear Regression\n",
        "model = LinearRegression()\n",
        "model.fit(train_X, train_Y)\n",
        "train_pred_Y = model.predict(train_X)\n",
        "test_pred_Y = model.predict(test_X)\n",
        "train_pred_Y = pd.Series(train_pred_Y.clip(0, train_pred_Y.max()), index=train_Y.index)\n",
        "test_pred_Y = pd.Series(test_pred_Y.clip(0, test_pred_Y.max()), index=test_Y.index)\n",
        "\n",
        "print(mean_absolute_error(np.array(test_Y), test_pred_Y))\n",
        "gdp_data.describe()"
      ]
    },
    {
      "cell_type": "markdown",
      "metadata": {
        "id": "pfAcX9d60foy"
      },
      "source": [
        "We will also try to create a discrete prediction with our linear regression model. To achieve this, we break up the different GDPs into 5 equally sized buckets. These represent a label, either very poor, poor, average, wealthy or very wealthy"
      ]
    },
    {
      "cell_type": "code",
      "execution_count": 31,
      "metadata": {
        "colab": {
          "base_uri": "https://localhost:8080/",
          "height": 300
        },
        "id": "1i_aIpScbUmL",
        "outputId": "bcc09951-290e-40fa-80f6-9d61e20dcf74"
      },
      "outputs": [
        {
          "data": {
            "text/html": [
              "<div>\n",
              "<style scoped>\n",
              "    .dataframe tbody tr th:only-of-type {\n",
              "        vertical-align: middle;\n",
              "    }\n",
              "\n",
              "    .dataframe tbody tr th {\n",
              "        vertical-align: top;\n",
              "    }\n",
              "\n",
              "    .dataframe thead th {\n",
              "        text-align: right;\n",
              "    }\n",
              "</style>\n",
              "<table border=\"1\" class=\"dataframe\">\n",
              "  <thead>\n",
              "    <tr style=\"text-align: right;\">\n",
              "      <th></th>\n",
              "      <th>GDP ($ per capita)</th>\n",
              "      <th>Infant mortality (per 1000 births)</th>\n",
              "      <th>Net migration</th>\n",
              "      <th>Pop. Density (per sq. mi.)</th>\n",
              "      <th>Literacy (%)</th>\n",
              "      <th>Phones (per 1000)</th>\n",
              "      <th>Birthrate</th>\n",
              "      <th>Agriculture</th>\n",
              "      <th>Industry</th>\n",
              "      <th>Service</th>\n",
              "    </tr>\n",
              "  </thead>\n",
              "  <tbody>\n",
              "    <tr>\n",
              "      <th>count</th>\n",
              "      <td>195.000000</td>\n",
              "      <td>195.000000</td>\n",
              "      <td>195.000000</td>\n",
              "      <td>195.000000</td>\n",
              "      <td>195.00000</td>\n",
              "      <td>195.000000</td>\n",
              "      <td>195.000000</td>\n",
              "      <td>195.000000</td>\n",
              "      <td>195.000000</td>\n",
              "      <td>195.000000</td>\n",
              "    </tr>\n",
              "    <tr>\n",
              "      <th>mean</th>\n",
              "      <td>2.000000</td>\n",
              "      <td>38.936846</td>\n",
              "      <td>-0.437077</td>\n",
              "      <td>201.308205</td>\n",
              "      <td>82.29641</td>\n",
              "      <td>198.387179</td>\n",
              "      <td>22.889744</td>\n",
              "      <td>0.158349</td>\n",
              "      <td>0.293564</td>\n",
              "      <td>0.547195</td>\n",
              "    </tr>\n",
              "    <tr>\n",
              "      <th>std</th>\n",
              "      <td>1.417854</td>\n",
              "      <td>36.382098</td>\n",
              "      <td>4.466701</td>\n",
              "      <td>667.646406</td>\n",
              "      <td>20.01014</td>\n",
              "      <td>199.670583</td>\n",
              "      <td>11.359249</td>\n",
              "      <td>0.149453</td>\n",
              "      <td>0.135160</td>\n",
              "      <td>0.154904</td>\n",
              "    </tr>\n",
              "    <tr>\n",
              "      <th>min</th>\n",
              "      <td>0.000000</td>\n",
              "      <td>2.290000</td>\n",
              "      <td>-20.990000</td>\n",
              "      <td>0.000000</td>\n",
              "      <td>17.60000</td>\n",
              "      <td>0.200000</td>\n",
              "      <td>7.290000</td>\n",
              "      <td>0.000000</td>\n",
              "      <td>0.040000</td>\n",
              "      <td>0.062000</td>\n",
              "    </tr>\n",
              "    <tr>\n",
              "      <th>25%</th>\n",
              "      <td>1.000000</td>\n",
              "      <td>10.020000</td>\n",
              "      <td>-1.315000</td>\n",
              "      <td>26.800000</td>\n",
              "      <td>69.95000</td>\n",
              "      <td>27.100000</td>\n",
              "      <td>12.835000</td>\n",
              "      <td>0.039000</td>\n",
              "      <td>0.203500</td>\n",
              "      <td>0.425500</td>\n",
              "    </tr>\n",
              "    <tr>\n",
              "      <th>50%</th>\n",
              "      <td>2.000000</td>\n",
              "      <td>24.310000</td>\n",
              "      <td>0.000000</td>\n",
              "      <td>69.800000</td>\n",
              "      <td>92.30000</td>\n",
              "      <td>131.800000</td>\n",
              "      <td>20.690000</td>\n",
              "      <td>0.112000</td>\n",
              "      <td>0.275000</td>\n",
              "      <td>0.560000</td>\n",
              "    </tr>\n",
              "    <tr>\n",
              "      <th>75%</th>\n",
              "      <td>3.000000</td>\n",
              "      <td>62.550000</td>\n",
              "      <td>0.305000</td>\n",
              "      <td>151.000000</td>\n",
              "      <td>98.00000</td>\n",
              "      <td>305.550000</td>\n",
              "      <td>30.815000</td>\n",
              "      <td>0.231000</td>\n",
              "      <td>0.349000</td>\n",
              "      <td>0.665000</td>\n",
              "    </tr>\n",
              "    <tr>\n",
              "      <th>max</th>\n",
              "      <td>4.000000</td>\n",
              "      <td>191.190000</td>\n",
              "      <td>23.060000</td>\n",
              "      <td>6482.200000</td>\n",
              "      <td>100.00000</td>\n",
              "      <td>898.000000</td>\n",
              "      <td>50.730000</td>\n",
              "      <td>0.769000</td>\n",
              "      <td>0.906000</td>\n",
              "      <td>0.906000</td>\n",
              "    </tr>\n",
              "  </tbody>\n",
              "</table>\n",
              "</div>"
            ],
            "text/plain": [
              "       GDP ($ per capita)  Infant mortality (per 1000 births)  Net migration  \\\n",
              "count          195.000000                          195.000000     195.000000   \n",
              "mean             2.000000                           38.936846      -0.437077   \n",
              "std              1.417854                           36.382098       4.466701   \n",
              "min              0.000000                            2.290000     -20.990000   \n",
              "25%              1.000000                           10.020000      -1.315000   \n",
              "50%              2.000000                           24.310000       0.000000   \n",
              "75%              3.000000                           62.550000       0.305000   \n",
              "max              4.000000                          191.190000      23.060000   \n",
              "\n",
              "       Pop. Density (per sq. mi.)  Literacy (%)  Phones (per 1000)  \\\n",
              "count                  195.000000     195.00000         195.000000   \n",
              "mean                   201.308205      82.29641         198.387179   \n",
              "std                    667.646406      20.01014         199.670583   \n",
              "min                      0.000000      17.60000           0.200000   \n",
              "25%                     26.800000      69.95000          27.100000   \n",
              "50%                     69.800000      92.30000         131.800000   \n",
              "75%                    151.000000      98.00000         305.550000   \n",
              "max                   6482.200000     100.00000         898.000000   \n",
              "\n",
              "        Birthrate  Agriculture    Industry     Service  \n",
              "count  195.000000   195.000000  195.000000  195.000000  \n",
              "mean    22.889744     0.158349    0.293564    0.547195  \n",
              "std     11.359249     0.149453    0.135160    0.154904  \n",
              "min      7.290000     0.000000    0.040000    0.062000  \n",
              "25%     12.835000     0.039000    0.203500    0.425500  \n",
              "50%     20.690000     0.112000    0.275000    0.560000  \n",
              "75%     30.815000     0.231000    0.349000    0.665000  \n",
              "max     50.730000     0.769000    0.906000    0.906000  "
            ]
          },
          "execution_count": 31,
          "metadata": {},
          "output_type": "execute_result"
        }
      ],
      "source": [
        "gdp_data['GDP ($ per capita)'] = pd.qcut(gdp_data['GDP ($ per capita)'], 5, labels=False)\n",
        "gdp_data.describe()"
      ]
    },
    {
      "cell_type": "markdown",
      "metadata": {
        "id": "ibyQkkUr1V6M"
      },
      "source": [
        "We will have to retrain the model with the new labels. In the next block we reset the data but with the new labels and then feed it into our linear regression model again."
      ]
    },
    {
      "cell_type": "code",
      "execution_count": 32,
      "metadata": {
        "id": "HmV4wreubr_W"
      },
      "outputs": [],
      "source": [
        "train, test = train_test_split(gdp_data, test_size=0.3, shuffle=True)\n",
        "training_features = ['Infant mortality (per 1000 births)',\n",
        "       'Net migration', 'Pop. Density (per sq. mi.)', 'Literacy (%)',\n",
        "       'Phones (per 1000)', 'Birthrate', 'Agriculture', 'Industry',\n",
        "       'Service']\n",
        "target = 'GDP ($ per capita)'\n",
        "train_X = train[training_features] # 136 instances of data, each with 9 features\n",
        "train_Y = train[target] # 136 instances of data, each with 5 different possible targets\n",
        "test_X = test[training_features] # 59 instances of data, each with 9 features\n",
        "test_Y = test[target] # 59 instances of data, each with 5 different possible targets"
      ]
    },
    {
      "cell_type": "markdown",
      "metadata": {
        "id": "eoR3pXg11tIs"
      },
      "source": [
        "Once again, we train our model on the train data and train labels. And once again we print the mean absolute error to see how wrong it is on average."
      ]
    },
    {
      "cell_type": "code",
      "execution_count": 38,
      "metadata": {
        "colab": {
          "base_uri": "https://localhost:8080/"
        },
        "id": "q-1GV9EMbOHs",
        "outputId": "9b6e2a60-dfd3-4b65-cea5-18ddcf55c0ed"
      },
      "outputs": [
        {
          "name": "stdout",
          "output_type": "stream",
          "text": [
            "0.3728813559322034\n"
          ]
        }
      ],
      "source": [
        "model = LinearRegression()\n",
        "model.fit(train_X, train_Y)\n",
        "train_pred_Y = model.predict(train_X)\n",
        "test_pred_Y = model.predict(test_X)\n",
        "train_pred_Y = pd.Series(train_pred_Y.clip(0, train_pred_Y.max()), index=train_Y.index)\n",
        "test_pred_Y = pd.Series(test_pred_Y.clip(0, test_pred_Y.max()), index=test_Y.index)\n",
        "test_pred_Y = test_pred_Y.apply(lambda row : min(abs(round(row)), 4))\n",
        "print(mean_absolute_error(np.array(test_Y), test_pred_Y))"
      ]
    },
    {
      "cell_type": "markdown",
      "metadata": {
        "id": "lNyWzXXt16Gp"
      },
      "source": [
        "Because this is a discrete model, we can create a confusion matrix to see where the model is going wrong and see what it is misclassifying. This is a great way to visualize the evaluation metrics. For this confusion matrix, we use sklearn.metrics."
      ]
    },
    {
      "cell_type": "markdown",
      "metadata": {},
      "source": [
        "### A Confusion matrix is an N x N matrix used for evaluating the performance of a classification model, where N is the number of target classes. The matrix compares the actual target values with those predicted by the machine learning model."
      ]
    },
    {
      "cell_type": "markdown",
      "metadata": {},
      "source": [
        "Let say row 1 and column 1 represent the target class \"Poor\". Then, cf_matrix[1][1] tells that 4 predictions were made accurately for the target class \"Poor\""
      ]
    },
    {
      "cell_type": "markdown",
      "metadata": {},
      "source": [
        "Let say row 0 represent the target class \"Very Poor\" and column 1 represent the target class \"Poor\". Then, cf_matrix[0][1] tells that 8 predictions were made incurrately where: the model predicted 8 target classes of \"Poor\", but they were actually supposed to be the target class \"Very Poor\""
      ]
    },
    {
      "cell_type": "code",
      "execution_count": 39,
      "metadata": {
        "colab": {
          "base_uri": "https://localhost:8080/"
        },
        "id": "vZ-eQTPrSM15",
        "outputId": "e0006f2d-6f25-47f6-c907-de40dfea04ea"
      },
      "outputs": [
        {
          "data": {
            "text/plain": [
              "array([[ 5,  8,  1,  0,  0],\n",
              "       [ 0,  4,  2,  1,  0],\n",
              "       [ 0,  1, 12,  1,  0],\n",
              "       [ 0,  0,  4,  9,  0],\n",
              "       [ 0,  0,  0,  2,  9]], dtype=int64)"
            ]
          },
          "execution_count": 39,
          "metadata": {},
          "output_type": "execute_result"
        }
      ],
      "source": [
        "test_pred_Y = test_pred_Y.apply(lambda row : int(round(row)))\n",
        "cf_matrix = confusion_matrix(np.array(test_Y), test_pred_Y)\n",
        "cf_matrix"
      ]
    },
    {
      "cell_type": "markdown",
      "metadata": {
        "id": "72L_ZRXH2F1_"
      },
      "source": [
        "With our confusion matrix set up, we will now set up the heatmap to show it off in a more visually appealing way. We will need to create the title, x-axis label, y-axis label, and the different labels for the different sections."
      ]
    },
    {
      "cell_type": "code",
      "execution_count": 40,
      "metadata": {
        "colab": {
          "base_uri": "https://localhost:8080/",
          "height": 349
        },
        "id": "n6wtzPvXSPKy",
        "outputId": "e675e56d-c474-44bd-fb25-a72611b7870e"
      },
      "outputs": [
        {
          "data": {
            "image/png": "[encoded data removed]",
            "text/plain": [
              "<Figure size 432x288 with 2 Axes>"
            ]
          },
          "metadata": {
            "needs_background": "light"
          },
          "output_type": "display_data"
        }
      ],
      "source": [
        "ax = sns.heatmap(cf_matrix, annot=True, cmap='Blues')\n",
        "\n",
        "ax.set_title('Wealth of Countries\\n\\n')\n",
        "ax.set_xlabel('\\nPredicted Values')\n",
        "ax.set_ylabel('Actual Values')\n",
        "\n",
        "ax.xaxis.set_ticklabels(['Very Poor','Poor','Average','Wealthy','Very\\nWealthy'])\n",
        "ax.yaxis.set_ticklabels(['Very Poor','Poor','Average','Wealthy','Very\\nWealthy'])\n",
        "\n",
        "plt.show()"
      ]
    },
    {
      "cell_type": "markdown",
      "metadata": {
        "id": "gZhhKNZ52fi3"
      },
      "source": [
        "For the next confusion matrix, I wanted to see the % of each answer within a row."
      ]
    },
    {
      "cell_type": "code",
      "execution_count": 41,
      "metadata": {
        "colab": {
          "base_uri": "https://localhost:8080/",
          "height": 349
        },
        "id": "4ASlllKXBFUv",
        "outputId": "b3e8deeb-29d6-44b8-9059-6d0c2437d773"
      },
      "outputs": [
        {
          "data": {
            "image/png": "[encoded data removed]",
            "text/plain": [
              "<Figure size 432x288 with 2 Axes>"
            ]
          },
          "metadata": {
            "needs_background": "light"
          },
          "output_type": "display_data"
        }
      ],
      "source": [
        "cf_matrix = confusion_matrix(np.array(test_Y), test_pred_Y)\n",
        "percent_matrix = []\n",
        "for i in range(len(cf_matrix)):\n",
        "  percent_matrix.append(cf_matrix[i]/sum(cf_matrix[i]))\n",
        "\n",
        "ax = sns.heatmap(percent_matrix, annot=True, cmap='Blues', fmt='.2%')\n",
        "\n",
        "ax.set_title('Wealth of Countries\\n\\n')\n",
        "ax.set_xlabel('\\nPredicted Values')\n",
        "ax.set_ylabel('Actual Values')\n",
        "\n",
        "ax.xaxis.set_ticklabels(['Very Poor','Poor','Average','Wealthy','Very\\nWealthy'])\n",
        "ax.yaxis.set_ticklabels(['Very Poor','Poor','Average','Wealthy','Very\\nWealthy'])\n",
        "\n",
        "plt.show()"
      ]
    },
    {
      "cell_type": "markdown",
      "metadata": {
        "id": "ssSXLySMfqsM"
      },
      "source": [
        "Finally, we will print out the raw accuacy of our model, meaning how often it labeled the country correctly."
      ]
    },
    {
      "cell_type": "markdown",
      "metadata": {},
      "source": [
        "Accuracy Score: the ratio of number of correct predictions to the total number of input samples. Calculation: (number of labels accurately predicted) / (total instance of labels)"
      ]
    },
    {
      "cell_type": "markdown",
      "metadata": {},
      "source": [
        "Note: 100% is the best accuracy there is, but be suspicious because this might be a result of overfitting"
      ]
    },
    {
      "cell_type": "markdown",
      "metadata": {},
      "source": [
        "### Overfitting: happens when a model learns the detail and noise in the training data to the extent that it negatively impacts the performance of the model on new data"
      ]
    },
    {
      "cell_type": "code",
      "execution_count": 42,
      "metadata": {
        "colab": {
          "base_uri": "https://localhost:8080/"
        },
        "id": "jkGoZWS-cZMQ",
        "outputId": "85d134e5-759d-48a1-cddb-4e7072d473af"
      },
      "outputs": [
        {
          "data": {
            "text/plain": [
              "0.6610169491525424"
            ]
          },
          "execution_count": 42,
          "metadata": {},
          "output_type": "execute_result"
        }
      ],
      "source": [
        "accuracy_score(np.array(test_Y), test_pred_Y)"
      ]
    },
    {
      "cell_type": "markdown",
      "metadata": {},
      "source": [
        "#### Why is our model's accuracy so low? Possibilities that can explain this:\n",
        "#### \t1) The input data and output target have a very low correlation.\n",
        "#### \t2) There isn't enough data for the model to learn anything...\n",
        "#### \t3) The model is too weak and is unable to pick up correlations from the data."
      ]
    }
  ],
  "metadata": {
    "colab": {
      "collapsed_sections": [],
      "name": "DS_Curriculum_ML_Models_Linear_Regression(2a).ipynb",
      "provenance": []
    },
    "kernelspec": {
      "display_name": "Python 3",
      "name": "python3"
    },
    "language_info": {
      "codemirror_mode": {
        "name": "ipython",
        "version": 3
      },
      "file_extension": ".py",
      "mimetype": "text/x-python",
      "name": "python",
      "nbconvert_exporter": "python",
      "pygments_lexer": "ipython3",
      "version": "3.8.13"
    }
  },
  "nbformat": 4,
  "nbformat_minor": 0
}

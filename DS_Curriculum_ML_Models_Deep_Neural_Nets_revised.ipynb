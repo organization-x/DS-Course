{
  "cells": [
    {
      "cell_type": "markdown",
      "metadata": {},
      "source": [
        "### In this notebook we will briefly talk about what Neural Network is and then apply it to our data (GDP per capita) and then we will evaluate our model"
      ]
    },
    {
      "cell_type": "markdown",
      "metadata": {},
      "source": [
        "NOTE: We will both tackle CLASSIFICATION and REGRESSION problems"
      ]
    },
    {
      "cell_type": "markdown",
      "metadata": {},
      "source": [
        "CLASSIFICATION: ML problem in which the output variable is a category, in discrete numerical values"
      ]
    },
    {
      "cell_type": "markdown",
      "metadata": {},
      "source": [
        "REGRESSION: ML problem in which the model predicted output is a continuous numerical value"
      ]
    },
    {
      "cell_type": "code",
      "execution_count": 2,
      "metadata": {
        "id": "iIPuzdv4SiF_"
      },
      "outputs": [],
      "source": [
        "# Import Libraries/Dependencies\n",
        "import numpy as np\n",
        "import pandas as pd\n",
        "import seaborn as sns\n",
        "from matplotlib import pyplot as plt\n",
        "\n",
        "from sklearn.preprocessing import LabelEncoder\n",
        "from sklearn.model_selection import train_test_split\n",
        "from sklearn.linear_model import LinearRegression\n",
        "from sklearn.tree import DecisionTreeRegressor\n",
        "from sklearn.ensemble import RandomForestRegressor\n",
        "from sklearn.metrics import mean_squared_error, mean_squared_log_error, mean_absolute_error, accuracy_score\n",
        "from sklearn.metrics import confusion_matrix\n",
        "\n",
        "from keras.callbacks import ModelCheckpoint\n",
        "from keras.models import Sequential\n",
        "from keras.layers import Dense, Activation, Flatten\n",
        "from keras import losses\n",
        "\n",
        "from sklearn.model_selection import train_test_split\n",
        "from sklearn.ensemble import RandomForestRegressor\n",
        "from sklearn.metrics import mean_absolute_error \n",
        "from matplotlib import pyplot as plt\n",
        "import seaborn as sb\n",
        "import matplotlib.pyplot as plt\n",
        "import pandas as pd\n",
        "import numpy as np\n",
        "import warnings \n",
        "warnings.filterwarnings('ignore')\n",
        "warnings.filterwarnings('ignore', category=DeprecationWarning)"
      ]
    },
    {
      "cell_type": "markdown",
      "metadata": {
        "id": "TIOHJHzOegYs"
      },
      "source": [
        "Next, we import the functions from our original data exploration notebook. These will be used to get our data clean enough to be fed to our models."
      ]
    },
    {
      "cell_type": "code",
      "execution_count": 3,
      "metadata": {
        "id": "WKJTvIRWSte8"
      },
      "outputs": [],
      "source": [
        "# FUNCTIONS FROM NOTEBOOK 1\n",
        "\n",
        "def merge_data(country_data, height_data):\n",
        "  height_data = height_data.rename(columns={\"Country Name\" : \"Country\"})\n",
        "  country_data['Country'] = country_data.apply(lambda row : row.astype(str)['Country'][:-1], axis=1)\n",
        "  old_names = ['Antigua & Barbuda', 'Bahamas, The', 'Bosnia & Herzegovina', 'Central African Rep.', 'Congo, Dem. Rep.', 'Swaziland', 'Gambia, The', 'Cote d\\'Ivoire',\n",
        "             'Micronesia, Fed. St.', 'Burma', 'Korea, North', 'Macedonia', 'Congo, Repub. of the', 'Saint Kitts & Nevis', 'Sao Tome & Principe',\n",
        "             'Korea, South', 'East Timor', 'Trinidad & Tobago']\n",
        "\n",
        "  new_names = ['Antigua and Barbuda', 'Bahamas', 'Bosnia and Herzegovina', 'Central African Republic', 'DR Congo', 'Eswatini', 'Gambia', 'Ivory Coast', 'Micronesia',\n",
        "              'Myanmar', 'North Korea', 'North Macedonia', 'Republic of the Congo', 'Saint Kitts and Nevis', 'Sao Tome and Principe', 'South Korea',\n",
        "              'Timor-Leste', 'Trinidad and Tobago']\n",
        "\n",
        "  for i in range(len(old_names)):\n",
        "    country_data['Country'].replace({old_names[i]: new_names[i]}, inplace=True)\n",
        "  \n",
        "  merged_df = pd.merge(country_data, height_data, on=['Country'])\n",
        "  return merged_df\n",
        "\n",
        "# FUNCTIONS FROM NOTEBOOK 2\n",
        "\n",
        "def rename_regions(row):\n",
        "  if row['Region'] == 'ASIA (EX. NEAR EAST)':\n",
        "    region = 'ASIA'\n",
        "  elif row['Region'] == 'NEAR EAST':\n",
        "    region = 'MIDDLE EAST'\n",
        "  elif row['Region'] == 'C.W. OF IND. STATES':\n",
        "    region = \"C.W.I. STATES\"\n",
        "  else:\n",
        "    region = row['Region']\n",
        "  return region\n",
        "\n",
        "def format_and_clean_data(merged_data):\n",
        "  merged_data['Region'] = merged_data.apply(lambda row : row.astype(str)['Region'].strip(), axis=1)\n",
        "  merged_data['Region'] = merged_data.apply(lambda row : rename_regions(row), axis=1)\n",
        "\n",
        "  for col in merged_data.columns.values:\n",
        "    if merged_data[col].isnull().sum() == 0:\n",
        "        continue\n",
        "    if col == 'Climate':\n",
        "        guess_values = merged_data.groupby('Region')['Climate'].apply(lambda x: x.mode().max())\n",
        "    else:\n",
        "        guess_values = merged_data.groupby('Region')[col].median()\n",
        "    for region in merged_data['Region'].unique():\n",
        "        merged_data[col].loc[(merged_data[col].isnull())&(merged_data['Region']==region)] = guess_values[region]\n",
        "  return merged_data\n",
        "\n",
        "# FUNCTIONS FROM NOTEBOOK 3\n",
        "\n",
        "def get_gdp_dataset(merged_data):\n",
        "  merged_data = merged_data.drop(['Male Height in Cm', 'Female Height in Cm'], axis=1)\n",
        "  merged_data['Average Height in Ft'] = merged_data['Female Height in Ft'] / 2 + merged_data['Male Height in Ft'] / 2\n",
        "  merged_data = merged_data.drop(['Male Height in Ft', 'Female Height in Ft'], axis=1)\n",
        "\n",
        "  GDP_features = ['GDP ($ per capita)', 'Infant mortality (per 1000 births)', 'Net migration', 'Pop. Density (per sq. mi.)',\n",
        "                'Literacy (%)', 'Phones (per 1000)', 'Birthrate', 'Agriculture', 'Industry', 'Service']\n",
        "  gdp_data = merged_data[GDP_features]\n",
        "  \n",
        "  return gdp_data\n",
        "\n",
        "def get_height_dataset(merged_data):\n",
        "  merged_data = merged_data.drop(['Male Height in Cm', 'Female Height in Cm'], axis=1)\n",
        "  merged_data['Average Height in Ft'] = merged_data['Female Height in Ft'] / 2 + merged_data['Male Height in Ft'] / 2\n",
        "  merged_data = merged_data.drop(['Male Height in Ft', 'Female Height in Ft'], axis=1)\n",
        "\n",
        "  height_features = ['Average Height in Ft', 'Agriculture', 'Service', 'Phones (per 1000)', 'GDP ($ per capita)', 'Literacy (%)']\n",
        "  avg_height_data = merged_data[height_features]\n",
        "\n",
        "  return avg_height_data"
      ]
    },
    {
      "cell_type": "markdown",
      "metadata": {
        "id": "Wlrgdd5LelWk"
      },
      "source": [
        "Let's get to data preprocessing! First we will use pandas (pd) to read our csv files. Then, we can manipulate the functions above to clean out data."
      ]
    },
    {
      "cell_type": "code",
      "execution_count": 4,
      "metadata": {
        "colab": {
          "base_uri": "https://localhost:8080/",
          "height": 267
        },
        "id": "z64biP30SvIr",
        "outputId": "4b2500d0-2eb0-4d7b-a757-1be3e8f9e222"
      },
      "outputs": [
        {
          "data": {
            "text/html": [
              "<div>\n",
              "<style scoped>\n",
              "    .dataframe tbody tr th:only-of-type {\n",
              "        vertical-align: middle;\n",
              "    }\n",
              "\n",
              "    .dataframe tbody tr th {\n",
              "        vertical-align: top;\n",
              "    }\n",
              "\n",
              "    .dataframe thead th {\n",
              "        text-align: right;\n",
              "    }\n",
              "</style>\n",
              "<table border=\"1\" class=\"dataframe\">\n",
              "  <thead>\n",
              "    <tr style=\"text-align: right;\">\n",
              "      <th></th>\n",
              "      <th>GDP ($ per capita)</th>\n",
              "      <th>Infant mortality (per 1000 births)</th>\n",
              "      <th>Net migration</th>\n",
              "      <th>Pop. Density (per sq. mi.)</th>\n",
              "      <th>Literacy (%)</th>\n",
              "      <th>Phones (per 1000)</th>\n",
              "      <th>Birthrate</th>\n",
              "      <th>Agriculture</th>\n",
              "      <th>Industry</th>\n",
              "      <th>Service</th>\n",
              "    </tr>\n",
              "  </thead>\n",
              "  <tbody>\n",
              "    <tr>\n",
              "      <th>0</th>\n",
              "      <td>700.0</td>\n",
              "      <td>163.07</td>\n",
              "      <td>23.06</td>\n",
              "      <td>48.0</td>\n",
              "      <td>36.0</td>\n",
              "      <td>3.2</td>\n",
              "      <td>46.60</td>\n",
              "      <td>0.380</td>\n",
              "      <td>0.240</td>\n",
              "      <td>0.380</td>\n",
              "    </tr>\n",
              "    <tr>\n",
              "      <th>1</th>\n",
              "      <td>4500.0</td>\n",
              "      <td>21.52</td>\n",
              "      <td>-4.93</td>\n",
              "      <td>124.6</td>\n",
              "      <td>86.5</td>\n",
              "      <td>71.2</td>\n",
              "      <td>15.11</td>\n",
              "      <td>0.232</td>\n",
              "      <td>0.188</td>\n",
              "      <td>0.579</td>\n",
              "    </tr>\n",
              "    <tr>\n",
              "      <th>2</th>\n",
              "      <td>6000.0</td>\n",
              "      <td>31.00</td>\n",
              "      <td>-0.39</td>\n",
              "      <td>13.8</td>\n",
              "      <td>70.0</td>\n",
              "      <td>78.1</td>\n",
              "      <td>17.14</td>\n",
              "      <td>0.101</td>\n",
              "      <td>0.600</td>\n",
              "      <td>0.298</td>\n",
              "    </tr>\n",
              "    <tr>\n",
              "      <th>3</th>\n",
              "      <td>8000.0</td>\n",
              "      <td>9.27</td>\n",
              "      <td>-20.71</td>\n",
              "      <td>290.4</td>\n",
              "      <td>97.0</td>\n",
              "      <td>259.5</td>\n",
              "      <td>22.46</td>\n",
              "      <td>0.151</td>\n",
              "      <td>0.190</td>\n",
              "      <td>0.620</td>\n",
              "    </tr>\n",
              "    <tr>\n",
              "      <th>4</th>\n",
              "      <td>19000.0</td>\n",
              "      <td>4.05</td>\n",
              "      <td>6.60</td>\n",
              "      <td>152.1</td>\n",
              "      <td>100.0</td>\n",
              "      <td>497.2</td>\n",
              "      <td>8.71</td>\n",
              "      <td>0.021</td>\n",
              "      <td>0.274</td>\n",
              "      <td>0.707</td>\n",
              "    </tr>\n",
              "  </tbody>\n",
              "</table>\n",
              "</div>"
            ],
            "text/plain": [
              "   GDP ($ per capita)  Infant mortality (per 1000 births)  Net migration  \\\n",
              "0               700.0                              163.07          23.06   \n",
              "1              4500.0                               21.52          -4.93   \n",
              "2              6000.0                               31.00          -0.39   \n",
              "3              8000.0                                9.27         -20.71   \n",
              "4             19000.0                                4.05           6.60   \n",
              "\n",
              "   Pop. Density (per sq. mi.)  Literacy (%)  Phones (per 1000)  Birthrate  \\\n",
              "0                        48.0          36.0                3.2      46.60   \n",
              "1                       124.6          86.5               71.2      15.11   \n",
              "2                        13.8          70.0               78.1      17.14   \n",
              "3                       290.4          97.0              259.5      22.46   \n",
              "4                       152.1         100.0              497.2       8.71   \n",
              "\n",
              "   Agriculture  Industry  Service  \n",
              "0        0.380     0.240    0.380  \n",
              "1        0.232     0.188    0.579  \n",
              "2        0.101     0.600    0.298  \n",
              "3        0.151     0.190    0.620  \n",
              "4        0.021     0.274    0.707  "
            ]
          },
          "execution_count": 4,
          "metadata": {},
          "output_type": "execute_result"
        }
      ],
      "source": [
        "height_data = pd.read_csv('../content/sample_data/Height of Male and Female by Country 2022.csv')\n",
        "country_data = pd.read_csv('../content/sample_data/countries of the world.csv', decimal=',')\n",
        "\n",
        "merged_data = merge_data(country_data, height_data)\n",
        "merged_data = format_and_clean_data(merged_data)\n",
        "gdp_data = get_gdp_dataset(merged_data)\n",
        "avg_height_data = get_height_dataset(merged_data)\n",
        "\n",
        "gdp_data.head()"
      ]
    },
    {
      "cell_type": "code",
      "execution_count": null,
      "metadata": {
        "colab": {
          "base_uri": "https://localhost:8080/",
          "height": 206
        },
        "id": "d8a-7enlSxgr",
        "outputId": "7d84a01c-451d-463c-8070-505fe7c340e7"
      },
      "outputs": [
        {
          "data": {
            "text/html": [
              "<div>\n",
              "<style scoped>\n",
              "    .dataframe tbody tr th:only-of-type {\n",
              "        vertical-align: middle;\n",
              "    }\n",
              "\n",
              "    .dataframe tbody tr th {\n",
              "        vertical-align: top;\n",
              "    }\n",
              "\n",
              "    .dataframe thead th {\n",
              "        text-align: right;\n",
              "    }\n",
              "</style>\n",
              "<table border=\"1\" class=\"dataframe\">\n",
              "  <thead>\n",
              "    <tr style=\"text-align: right;\">\n",
              "      <th></th>\n",
              "      <th>Average Height in Ft</th>\n",
              "      <th>Agriculture</th>\n",
              "      <th>Service</th>\n",
              "      <th>Phones (per 1000)</th>\n",
              "      <th>GDP ($ per capita)</th>\n",
              "      <th>Literacy (%)</th>\n",
              "    </tr>\n",
              "  </thead>\n",
              "  <tbody>\n",
              "    <tr>\n",
              "      <th>0</th>\n",
              "      <td>5.325</td>\n",
              "      <td>0.380</td>\n",
              "      <td>0.380</td>\n",
              "      <td>3.2</td>\n",
              "      <td>700.0</td>\n",
              "      <td>36.0</td>\n",
              "    </tr>\n",
              "    <tr>\n",
              "      <th>1</th>\n",
              "      <td>5.515</td>\n",
              "      <td>0.232</td>\n",
              "      <td>0.579</td>\n",
              "      <td>71.2</td>\n",
              "      <td>4500.0</td>\n",
              "      <td>86.5</td>\n",
              "    </tr>\n",
              "    <tr>\n",
              "      <th>2</th>\n",
              "      <td>5.535</td>\n",
              "      <td>0.101</td>\n",
              "      <td>0.298</td>\n",
              "      <td>78.1</td>\n",
              "      <td>6000.0</td>\n",
              "      <td>70.0</td>\n",
              "    </tr>\n",
              "    <tr>\n",
              "      <th>3</th>\n",
              "      <td>5.655</td>\n",
              "      <td>0.151</td>\n",
              "      <td>0.620</td>\n",
              "      <td>259.5</td>\n",
              "      <td>8000.0</td>\n",
              "      <td>97.0</td>\n",
              "    </tr>\n",
              "    <tr>\n",
              "      <th>4</th>\n",
              "      <td>5.650</td>\n",
              "      <td>0.021</td>\n",
              "      <td>0.707</td>\n",
              "      <td>497.2</td>\n",
              "      <td>19000.0</td>\n",
              "      <td>100.0</td>\n",
              "    </tr>\n",
              "  </tbody>\n",
              "</table>\n",
              "</div>"
            ],
            "text/plain": [
              "   Average Height in Ft  Agriculture  Service  Phones (per 1000)  \\\n",
              "0                 5.325        0.380    0.380                3.2   \n",
              "1                 5.515        0.232    0.579               71.2   \n",
              "2                 5.535        0.101    0.298               78.1   \n",
              "3                 5.655        0.151    0.620              259.5   \n",
              "4                 5.650        0.021    0.707              497.2   \n",
              "\n",
              "   GDP ($ per capita)  Literacy (%)  \n",
              "0               700.0          36.0  \n",
              "1              4500.0          86.5  \n",
              "2              6000.0          70.0  \n",
              "3              8000.0          97.0  \n",
              "4             19000.0         100.0  "
            ]
          },
          "execution_count": 4,
          "metadata": {},
          "output_type": "execute_result"
        }
      ],
      "source": [
        "avg_height_data.head()"
      ]
    },
    {
      "cell_type": "markdown",
      "metadata": {},
      "source": [
        "Features: the input data/variables our ML model takes in to make prediction"
      ]
    },
    {
      "cell_type": "markdown",
      "metadata": {},
      "source": [
        "Target: the output data/variables our ML model aims to predict"
      ]
    },
    {
      "cell_type": "markdown",
      "metadata": {
        "id": "0vJ2xxwyeqOQ"
      },
      "source": [
        "Whenever we train a model, its important to split it up into a training data set and a test data set. The main reason we do this is to make sure that the model learns the patterns in the data instead of just memorizing the entire dataset. Basically, we want to make sure that the model doesn't overfit on the data. Its like when you get a review for a test, you are given questions that are similar to the test but not the exact same question to make sure you can't just memorize the questions on the review."
      ]
    },
    {
      "cell_type": "markdown",
      "metadata": {},
      "source": [
        "### Overfitting: happens when a model learns the detail and noise in the training data to the extent that it negatively impacts the performance of the model on new data"
      ]
    },
    {
      "cell_type": "markdown",
      "metadata": {},
      "source": [
        "For this example, 70% of our data will consist of training data, while the rest of 30% will be testing data"
      ]
    },
    {
      "cell_type": "markdown",
      "metadata": {},
      "source": [
        "train_X and train_Y will be the training feature, target respectively. test_X and test_Y will be the testing feature, target respectively."
      ]
    },
    {
      "cell_type": "markdown",
      "metadata": {},
      "source": [
        "We're also shuffling our data so that every data entry has an equal chance of being selected for testing data, incase certain groups of data were concentrated"
      ]
    },
    {
      "cell_type": "code",
      "execution_count": null,
      "metadata": {
        "id": "3tEt8QDLSxds"
      },
      "outputs": [],
      "source": [
        "train, test = train_test_split(gdp_data, test_size=0.3, shuffle=True)\n",
        "# The Different class of inputs\n",
        "# In this scenario, our model can learn from 9 features\n",
        "training_features = ['Infant mortality (per 1000 births)',\n",
        "                     'Net migration', 'Pop. Density (per sq. mi.)',\n",
        "                     'Literacy (%)', 'Phones (per 1000)', 'Birthrate',\n",
        "                     'Agriculture', 'Industry', 'Service']\n",
        "\n",
        "# The target we would like our model to predict\n",
        "# In this scenario, our model will only predict one target\n",
        "target = 'GDP ($ per capita)'\n",
        "train_X = train[training_features] # 136 instances of data, each with 9 features\n",
        "train_Y = train[target] # 136 instances of data, each with 1 target to predict\n",
        "test_X = test[training_features] # 59 instances of data, each with 9 features\n",
        "test_Y = test[target] # 59 instances of data, each with 1 target to predict"
      ]
    },
    {
      "cell_type": "code",
      "execution_count": null,
      "metadata": {
        "colab": {
          "base_uri": "https://localhost:8080/"
        },
        "id": "J1T12jnjTZRZ",
        "outputId": "827155c5-859a-41cb-880f-b0e5f0701849"
      },
      "outputs": [
        {
          "name": "stdout",
          "output_type": "stream",
          "text": [
            "(136, 9)\n"
          ]
        },
        {
          "data": {
            "text/html": [
              "<div>\n",
              "<style scoped>\n",
              "    .dataframe tbody tr th:only-of-type {\n",
              "        vertical-align: middle;\n",
              "    }\n",
              "\n",
              "    .dataframe tbody tr th {\n",
              "        vertical-align: top;\n",
              "    }\n",
              "\n",
              "    .dataframe thead th {\n",
              "        text-align: right;\n",
              "    }\n",
              "</style>\n",
              "<table border=\"1\" class=\"dataframe\">\n",
              "  <thead>\n",
              "    <tr style=\"text-align: right;\">\n",
              "      <th></th>\n",
              "      <th>Infant mortality (per 1000 births)</th>\n",
              "      <th>Net migration</th>\n",
              "      <th>Pop. Density (per sq. mi.)</th>\n",
              "      <th>Literacy (%)</th>\n",
              "      <th>Phones (per 1000)</th>\n",
              "      <th>Birthrate</th>\n",
              "      <th>Agriculture</th>\n",
              "      <th>Industry</th>\n",
              "      <th>Service</th>\n",
              "    </tr>\n",
              "  </thead>\n",
              "  <tbody>\n",
              "    <tr>\n",
              "      <th>131</th>\n",
              "      <td>3.70</td>\n",
              "      <td>1.74</td>\n",
              "      <td>14.2</td>\n",
              "      <td>100.0</td>\n",
              "      <td>461.7</td>\n",
              "      <td>11.46</td>\n",
              "      <td>0.021</td>\n",
              "      <td>0.415</td>\n",
              "      <td>0.564</td>\n",
              "    </tr>\n",
              "    <tr>\n",
              "      <th>127</th>\n",
              "      <td>5.85</td>\n",
              "      <td>4.05</td>\n",
              "      <td>15.2</td>\n",
              "      <td>99.0</td>\n",
              "      <td>441.7</td>\n",
              "      <td>13.76</td>\n",
              "      <td>0.043</td>\n",
              "      <td>0.273</td>\n",
              "      <td>0.684</td>\n",
              "    </tr>\n",
              "    <tr>\n",
              "      <th>128</th>\n",
              "      <td>29.11</td>\n",
              "      <td>-1.22</td>\n",
              "      <td>43.0</td>\n",
              "      <td>67.5</td>\n",
              "      <td>39.7</td>\n",
              "      <td>24.51</td>\n",
              "      <td>0.165</td>\n",
              "      <td>0.275</td>\n",
              "      <td>0.560</td>\n",
              "    </tr>\n",
              "    <tr>\n",
              "      <th>150</th>\n",
              "      <td>27.71</td>\n",
              "      <td>-11.70</td>\n",
              "      <td>60.1</td>\n",
              "      <td>99.7</td>\n",
              "      <td>75.2</td>\n",
              "      <td>16.43</td>\n",
              "      <td>0.114</td>\n",
              "      <td>0.584</td>\n",
              "      <td>0.302</td>\n",
              "    </tr>\n",
              "    <tr>\n",
              "      <th>120</th>\n",
              "      <td>53.79</td>\n",
              "      <td>0.00</td>\n",
              "      <td>1.8</td>\n",
              "      <td>97.8</td>\n",
              "      <td>55.1</td>\n",
              "      <td>21.59</td>\n",
              "      <td>0.206</td>\n",
              "      <td>0.214</td>\n",
              "      <td>0.580</td>\n",
              "    </tr>\n",
              "    <tr>\n",
              "      <th>...</th>\n",
              "      <td>...</td>\n",
              "      <td>...</td>\n",
              "      <td>...</td>\n",
              "      <td>...</td>\n",
              "      <td>...</td>\n",
              "      <td>...</td>\n",
              "      <td>...</td>\n",
              "      <td>...</td>\n",
              "      <td>...</td>\n",
              "    </tr>\n",
              "    <tr>\n",
              "      <th>28</th>\n",
              "      <td>97.57</td>\n",
              "      <td>0.00</td>\n",
              "      <td>50.7</td>\n",
              "      <td>26.6</td>\n",
              "      <td>7.0</td>\n",
              "      <td>45.62</td>\n",
              "      <td>0.322</td>\n",
              "      <td>0.196</td>\n",
              "      <td>0.482</td>\n",
              "    </tr>\n",
              "    <tr>\n",
              "      <th>149</th>\n",
              "      <td>14.78</td>\n",
              "      <td>-7.64</td>\n",
              "      <td>303.0</td>\n",
              "      <td>96.0</td>\n",
              "      <td>190.9</td>\n",
              "      <td>16.18</td>\n",
              "      <td>0.100</td>\n",
              "      <td>0.260</td>\n",
              "      <td>0.640</td>\n",
              "    </tr>\n",
              "    <tr>\n",
              "      <th>175</th>\n",
              "      <td>66.61</td>\n",
              "      <td>0.00</td>\n",
              "      <td>97.7</td>\n",
              "      <td>60.9</td>\n",
              "      <td>10.6</td>\n",
              "      <td>37.01</td>\n",
              "      <td>0.395</td>\n",
              "      <td>0.204</td>\n",
              "      <td>0.401</td>\n",
              "    </tr>\n",
              "    <tr>\n",
              "      <th>169</th>\n",
              "      <td>4.39</td>\n",
              "      <td>4.05</td>\n",
              "      <td>182.2</td>\n",
              "      <td>99.0</td>\n",
              "      <td>680.9</td>\n",
              "      <td>9.71</td>\n",
              "      <td>0.015</td>\n",
              "      <td>0.340</td>\n",
              "      <td>0.645</td>\n",
              "    </tr>\n",
              "    <tr>\n",
              "      <th>166</th>\n",
              "      <td>23.57</td>\n",
              "      <td>-8.81</td>\n",
              "      <td>2.7</td>\n",
              "      <td>93.0</td>\n",
              "      <td>184.7</td>\n",
              "      <td>18.02</td>\n",
              "      <td>0.130</td>\n",
              "      <td>0.220</td>\n",
              "      <td>0.650</td>\n",
              "    </tr>\n",
              "  </tbody>\n",
              "</table>\n",
              "<p>136 rows × 9 columns</p>\n",
              "</div>"
            ],
            "text/plain": [
              "     Infant mortality (per 1000 births)  Net migration  \\\n",
              "131                                3.70           1.74   \n",
              "127                                5.85           4.05   \n",
              "128                               29.11          -1.22   \n",
              "150                               27.71         -11.70   \n",
              "120                               53.79           0.00   \n",
              "..                                  ...            ...   \n",
              "28                                97.57           0.00   \n",
              "149                               14.78          -7.64   \n",
              "175                               66.61           0.00   \n",
              "169                                4.39           4.05   \n",
              "166                               23.57          -8.81   \n",
              "\n",
              "     Pop. Density (per sq. mi.)  Literacy (%)  Phones (per 1000)  Birthrate  \\\n",
              "131                        14.2         100.0              461.7      11.46   \n",
              "127                        15.2          99.0              441.7      13.76   \n",
              "128                        43.0          67.5               39.7      24.51   \n",
              "150                        60.1          99.7               75.2      16.43   \n",
              "120                         1.8          97.8               55.1      21.59   \n",
              "..                          ...           ...                ...        ...   \n",
              "28                         50.7          26.6                7.0      45.62   \n",
              "149                       303.0          96.0              190.9      16.18   \n",
              "175                        97.7          60.9               10.6      37.01   \n",
              "169                       182.2          99.0              680.9       9.71   \n",
              "166                         2.7          93.0              184.7      18.02   \n",
              "\n",
              "     Agriculture  Industry  Service  \n",
              "131        0.021     0.415    0.564  \n",
              "127        0.043     0.273    0.684  \n",
              "128        0.165     0.275    0.560  \n",
              "150        0.114     0.584    0.302  \n",
              "120        0.206     0.214    0.580  \n",
              "..           ...       ...      ...  \n",
              "28         0.322     0.196    0.482  \n",
              "149        0.100     0.260    0.640  \n",
              "175        0.395     0.204    0.401  \n",
              "169        0.015     0.340    0.645  \n",
              "166        0.130     0.220    0.650  \n",
              "\n",
              "[136 rows x 9 columns]"
            ]
          },
          "execution_count": 22,
          "metadata": {},
          "output_type": "execute_result"
        }
      ],
      "source": [
        "# This tells us that we have 136 sets of training data and have 9 features each\n",
        "print(train_X.shape) # 136 rows and 9 columns\n",
        "train_X"
      ]
    },
    {
      "cell_type": "markdown",
      "metadata": {
        "id": "Ic3EP9SdezC5"
      },
      "source": [
        "In the next block, we create our Neural Network model using Tensorflow. Tensorflow makes it super easy to set up the model and train it on the data, simply create the model and how may neurons there should be at each layer, then give it the training data and it will start to learn. After the model is trained, we feed it the test data and compare its answers to the actual answers. This allows us to evaluate how good of a model it is. For our first metric we are using mean absolute error. This is how far from the correct answer the model is on average. Then we use the .describe() function to see what the standard diviation of the dataset to get a better idea of how good or bad the mean average error is in relation to the actual dataset."
      ]
    },
    {
      "cell_type": "markdown",
      "metadata": {},
      "source": [
        "In Generl Terms: A neural network is a series of algorithms that endeavors to recognize underlying relationships in a set of data through a process that mimics the way the human brain operates."
      ]
    },
    {
      "cell_type": "markdown",
      "metadata": {},
      "source": [
        "If you would like to learn more about Neural Networks, watch this series: https://www.youtube.com/watch?v=aircAruvnKk&list=PLZHQObOWTQDNU6R1_67000Dx_ZCJB-3pi"
      ]
    },
    {
      "cell_type": "markdown",
      "metadata": {},
      "source": [
        "Loss Function: a function that measures how far an estimated value is from its true value. Learn more here: https://www.youtube.com/watch?v=-qT8fJTP3Ks"
      ]
    },
    {
      "cell_type": "markdown",
      "metadata": {},
      "source": [
        "Optimizer: a function or an algorithm that modifies the attributes of the neural network, such as weights and learning rate. Learn more here: https://www.youtube.com/watch?v=JhQqquVeCE0"
      ]
    },
    {
      "cell_type": "markdown",
      "metadata": {},
      "source": [
        "Activation Function: a function that defines how the weighted sum of the input is transformed into an output from a node or nodes in a layer of the network. Learn more here: https://www.youtube.com/watch?v=aJToUocPLg4"
      ]
    },
    {
      "cell_type": "code",
      "execution_count": 12,
      "metadata": {
        "colab": {
          "base_uri": "https://localhost:8080/"
        },
        "id": "gkOutsCyS03Z",
        "outputId": "f5527993-01a1-4ddc-81d9-0c5b22e66a55"
      },
      "outputs": [
        {
          "name": "stdout",
          "output_type": "stream",
          "text": [
            "Model: \"sequential\"\n",
            "_________________________________________________________________\n",
            " Layer (type)                Output Shape              Param #   \n",
            "=================================================================\n",
            " dense (Dense)               (None, 128)               1280      \n",
            "                                                                 \n",
            " dense_1 (Dense)             (None, 256)               33024     \n",
            "                                                                 \n",
            " dense_2 (Dense)             (None, 256)               65792     \n",
            "                                                                 \n",
            " dense_3 (Dense)             (None, 256)               65792     \n",
            "                                                                 \n",
            " dense_4 (Dense)             (None, 1)                 257       \n",
            "                                                                 \n",
            "=================================================================\n",
            "Total params: 166,145\n",
            "Trainable params: 166,145\n",
            "Non-trainable params: 0\n",
            "_________________________________________________________________\n"
          ]
        }
      ],
      "source": [
        "### NOTE!!! Let's first tackle an REGRESSION problem\n",
        "#Notice how we have 9 as the initial input dimension (line7) for this neural network and 1 final output layer (line15).\n",
        "#This is because our model has 9 features to learn from and 1 specific target the model is trying to predict.\n",
        "model = Sequential()\n",
        "\n",
        "# The Input Layer :\n",
        "model.add(Dense(128, kernel_initializer='normal',input_dim = 9, activation='relu'))\n",
        "\n",
        "# The Hidden Layers :\n",
        "model.add(Dense(256, kernel_initializer='normal',activation='relu'))\n",
        "model.add(Dense(256, kernel_initializer='normal',activation='relu'))\n",
        "model.add(Dense(256, kernel_initializer='normal',activation='relu'))\n",
        "\n",
        "# The Output Layer :\n",
        "model.add(Dense(1, kernel_initializer='normal',activation='linear'))\n",
        "\n",
        "# Compile the network :\n",
        "model.compile(loss='mean_absolute_error', optimizer='adam', metrics=['mean_absolute_error'])\n",
        "model.summary()"
      ]
    },
    {
      "cell_type": "markdown",
      "metadata": {},
      "source": [
        "Let's train our model, epochs meant how many rounds of training we want the model to perform, batch_size is the number of training examples in one forward/backward pass. Generally, the larger your batch_size the faster your model computes due to parallelization and the model utilizes more ram. When the model returns an error stating how it ran out of ram, tune down your batch_size. However, in this scenario, our model isn't computationally expensive enough for this to happen, so you can mess around with the batch_size."
      ]
    },
    {
      "cell_type": "code",
      "execution_count": 13,
      "metadata": {
        "colab": {
          "base_uri": "https://localhost:8080/"
        },
        "id": "tC10ywmcTDmr",
        "outputId": "7d943b7c-a321-400c-f731-041b001925fd"
      },
      "outputs": [
        {
          "name": "stdout",
          "output_type": "stream",
          "text": [
            "Epoch 1/15\n",
            "5/5 [==============================] - 1s 2ms/step - loss: 8558.3096 - mean_absolute_error: 8558.3096\n",
            "Epoch 2/15\n",
            "5/5 [==============================] - 0s 2ms/step - loss: 8523.4512 - mean_absolute_error: 8523.4512\n",
            "Epoch 3/15\n",
            "5/5 [==============================] - 0s 2ms/step - loss: 8395.5605 - mean_absolute_error: 8395.5605\n",
            "Epoch 4/15\n",
            "5/5 [==============================] - 0s 3ms/step - loss: 7967.8105 - mean_absolute_error: 7967.8105\n",
            "Epoch 5/15\n",
            "5/5 [==============================] - 0s 3ms/step - loss: 7059.8120 - mean_absolute_error: 7059.8120\n",
            "Epoch 6/15\n",
            "5/5 [==============================] - 0s 3ms/step - loss: 5936.9824 - mean_absolute_error: 5936.9824\n",
            "Epoch 7/15\n",
            "5/5 [==============================] - 0s 2ms/step - loss: 5236.4727 - mean_absolute_error: 5236.4727\n",
            "Epoch 8/15\n",
            "5/5 [==============================] - 0s 2ms/step - loss: 4791.9531 - mean_absolute_error: 4791.9531\n",
            "Epoch 9/15\n",
            "5/5 [==============================] - 0s 3ms/step - loss: 4115.6768 - mean_absolute_error: 4115.6768\n",
            "Epoch 10/15\n",
            "5/5 [==============================] - 0s 3ms/step - loss: 3793.1453 - mean_absolute_error: 3793.1453\n",
            "Epoch 11/15\n",
            "5/5 [==============================] - 0s 2ms/step - loss: 3398.3191 - mean_absolute_error: 3398.3191\n",
            "Epoch 12/15\n",
            "5/5 [==============================] - 0s 2ms/step - loss: 3172.4666 - mean_absolute_error: 3172.4666\n",
            "Epoch 13/15\n",
            "5/5 [==============================] - 0s 2ms/step - loss: 3031.0208 - mean_absolute_error: 3031.0208\n",
            "Epoch 14/15\n",
            "5/5 [==============================] - 0s 3ms/step - loss: 3130.4456 - mean_absolute_error: 3130.4456\n",
            "Epoch 15/15\n",
            "5/5 [==============================] - 0s 2ms/step - loss: 3037.0061 - mean_absolute_error: 3037.0061\n"
          ]
        },
        {
          "data": {
            "text/plain": [
              "<keras.callbacks.History at 0x258127b7340>"
            ]
          },
          "execution_count": 13,
          "metadata": {},
          "output_type": "execute_result"
        }
      ],
      "source": [
        "model.fit(train_X, train_Y, epochs=15, batch_size=32)"
      ]
    },
    {
      "cell_type": "markdown",
      "metadata": {},
      "source": [
        "Pay careful attention to the dimensions/shape of your input and output!"
      ]
    },
    {
      "cell_type": "markdown",
      "metadata": {},
      "source": [
        "test_x.shape is (59,9), meaning there're 59 sets of sample data each with 9 different features. So... predictions.shape is (59, 1), since our model is predicting for 59 sets of data and it only has one target to predict."
      ]
    },
    {
      "cell_type": "code",
      "execution_count": 14,
      "metadata": {
        "id": "bMi-USbFtQFD"
      },
      "outputs": [
        {
          "name": "stdout",
          "output_type": "stream",
          "text": [
            "Dimension of input: (59, 9) (test_X)\n",
            "Dimension of output: (59, 1) (predictions)\n"
          ]
        }
      ],
      "source": [
        "predictions = model.predict(test_X)\n",
        "print(f\"Dimension of input: {test_X.shape} (test_X)\")\n",
        "print(f\"Dimension of output: {predictions.shape} (predictions)\")"
      ]
    },
    {
      "cell_type": "markdown",
      "metadata": {},
      "source": [
        "For this REGRESSION Problem, we will evaluate our model with the metric MAE(Mean Absolute Error)"
      ]
    },
    {
      "cell_type": "markdown",
      "metadata": {},
      "source": [
        "MAE: the magnitude of difference between the prediction of an observation and the true value of that observation. Calculation: Find all of your absolute errors: absolute value of -> (Actual Value — Predicted Value). Add them all up. Divide by the number of errors."
      ]
    },
    {
      "cell_type": "code",
      "execution_count": 15,
      "metadata": {
        "colab": {
          "base_uri": "https://localhost:8080/"
        },
        "id": "-1yuBvsPtoGA",
        "outputId": "99ba7ba9-cb81-4ac7-fd3d-b7d37de05643"
      },
      "outputs": [
        {
          "name": "stdout",
          "output_type": "stream",
          "text": [
            "3320.19664596299\n"
          ]
        }
      ],
      "source": [
        "print(mean_absolute_error(predictions, test_Y))"
      ]
    },
    {
      "cell_type": "markdown",
      "metadata": {
        "id": "G21fWM18fB3P"
      },
      "source": [
        "We will also try to create a (classification problem) discrete prediction with our Neural Network model. To achieve this, we break up the different GDPs into 5 equally sized buckets. These represent a label, either very poor, poor, average, wealthy or very wealthy"
      ]
    },
    {
      "cell_type": "code",
      "execution_count": 16,
      "metadata": {
        "colab": {
          "base_uri": "https://localhost:8080/",
          "height": 362
        },
        "id": "M7pc8sY-uGK9",
        "outputId": "a03a05d4-651e-42f2-a634-bee92111be97"
      },
      "outputs": [
        {
          "name": "stdout",
          "output_type": "stream",
          "text": [
            "Number of labels: 5\n"
          ]
        },
        {
          "data": {
            "text/html": [
              "<div>\n",
              "<style scoped>\n",
              "    .dataframe tbody tr th:only-of-type {\n",
              "        vertical-align: middle;\n",
              "    }\n",
              "\n",
              "    .dataframe tbody tr th {\n",
              "        vertical-align: top;\n",
              "    }\n",
              "\n",
              "    .dataframe thead th {\n",
              "        text-align: right;\n",
              "    }\n",
              "</style>\n",
              "<table border=\"1\" class=\"dataframe\">\n",
              "  <thead>\n",
              "    <tr style=\"text-align: right;\">\n",
              "      <th></th>\n",
              "      <th>GDP ($ per capita)</th>\n",
              "      <th>Infant mortality (per 1000 births)</th>\n",
              "      <th>Net migration</th>\n",
              "      <th>Pop. Density (per sq. mi.)</th>\n",
              "      <th>Literacy (%)</th>\n",
              "      <th>Phones (per 1000)</th>\n",
              "      <th>Birthrate</th>\n",
              "      <th>Agriculture</th>\n",
              "      <th>Industry</th>\n",
              "      <th>Service</th>\n",
              "    </tr>\n",
              "  </thead>\n",
              "  <tbody>\n",
              "    <tr>\n",
              "      <th>count</th>\n",
              "      <td>195.000000</td>\n",
              "      <td>195.000000</td>\n",
              "      <td>195.000000</td>\n",
              "      <td>195.000000</td>\n",
              "      <td>195.00000</td>\n",
              "      <td>195.000000</td>\n",
              "      <td>195.000000</td>\n",
              "      <td>195.000000</td>\n",
              "      <td>195.000000</td>\n",
              "      <td>195.000000</td>\n",
              "    </tr>\n",
              "    <tr>\n",
              "      <th>mean</th>\n",
              "      <td>2.000000</td>\n",
              "      <td>38.936846</td>\n",
              "      <td>-0.437077</td>\n",
              "      <td>201.308205</td>\n",
              "      <td>82.29641</td>\n",
              "      <td>198.387179</td>\n",
              "      <td>22.889744</td>\n",
              "      <td>0.158349</td>\n",
              "      <td>0.293564</td>\n",
              "      <td>0.547195</td>\n",
              "    </tr>\n",
              "    <tr>\n",
              "      <th>std</th>\n",
              "      <td>1.417854</td>\n",
              "      <td>36.382098</td>\n",
              "      <td>4.466701</td>\n",
              "      <td>667.646406</td>\n",
              "      <td>20.01014</td>\n",
              "      <td>199.670583</td>\n",
              "      <td>11.359249</td>\n",
              "      <td>0.149453</td>\n",
              "      <td>0.135160</td>\n",
              "      <td>0.154904</td>\n",
              "    </tr>\n",
              "    <tr>\n",
              "      <th>min</th>\n",
              "      <td>0.000000</td>\n",
              "      <td>2.290000</td>\n",
              "      <td>-20.990000</td>\n",
              "      <td>0.000000</td>\n",
              "      <td>17.60000</td>\n",
              "      <td>0.200000</td>\n",
              "      <td>7.290000</td>\n",
              "      <td>0.000000</td>\n",
              "      <td>0.040000</td>\n",
              "      <td>0.062000</td>\n",
              "    </tr>\n",
              "    <tr>\n",
              "      <th>25%</th>\n",
              "      <td>1.000000</td>\n",
              "      <td>10.020000</td>\n",
              "      <td>-1.315000</td>\n",
              "      <td>26.800000</td>\n",
              "      <td>69.95000</td>\n",
              "      <td>27.100000</td>\n",
              "      <td>12.835000</td>\n",
              "      <td>0.039000</td>\n",
              "      <td>0.203500</td>\n",
              "      <td>0.425500</td>\n",
              "    </tr>\n",
              "    <tr>\n",
              "      <th>50%</th>\n",
              "      <td>2.000000</td>\n",
              "      <td>24.310000</td>\n",
              "      <td>0.000000</td>\n",
              "      <td>69.800000</td>\n",
              "      <td>92.30000</td>\n",
              "      <td>131.800000</td>\n",
              "      <td>20.690000</td>\n",
              "      <td>0.112000</td>\n",
              "      <td>0.275000</td>\n",
              "      <td>0.560000</td>\n",
              "    </tr>\n",
              "    <tr>\n",
              "      <th>75%</th>\n",
              "      <td>3.000000</td>\n",
              "      <td>62.550000</td>\n",
              "      <td>0.305000</td>\n",
              "      <td>151.000000</td>\n",
              "      <td>98.00000</td>\n",
              "      <td>305.550000</td>\n",
              "      <td>30.815000</td>\n",
              "      <td>0.231000</td>\n",
              "      <td>0.349000</td>\n",
              "      <td>0.665000</td>\n",
              "    </tr>\n",
              "    <tr>\n",
              "      <th>max</th>\n",
              "      <td>4.000000</td>\n",
              "      <td>191.190000</td>\n",
              "      <td>23.060000</td>\n",
              "      <td>6482.200000</td>\n",
              "      <td>100.00000</td>\n",
              "      <td>898.000000</td>\n",
              "      <td>50.730000</td>\n",
              "      <td>0.769000</td>\n",
              "      <td>0.906000</td>\n",
              "      <td>0.906000</td>\n",
              "    </tr>\n",
              "  </tbody>\n",
              "</table>\n",
              "</div>"
            ],
            "text/plain": [
              "       GDP ($ per capita)  Infant mortality (per 1000 births)  Net migration  \\\n",
              "count          195.000000                          195.000000     195.000000   \n",
              "mean             2.000000                           38.936846      -0.437077   \n",
              "std              1.417854                           36.382098       4.466701   \n",
              "min              0.000000                            2.290000     -20.990000   \n",
              "25%              1.000000                           10.020000      -1.315000   \n",
              "50%              2.000000                           24.310000       0.000000   \n",
              "75%              3.000000                           62.550000       0.305000   \n",
              "max              4.000000                          191.190000      23.060000   \n",
              "\n",
              "       Pop. Density (per sq. mi.)  Literacy (%)  Phones (per 1000)  \\\n",
              "count                  195.000000     195.00000         195.000000   \n",
              "mean                   201.308205      82.29641         198.387179   \n",
              "std                    667.646406      20.01014         199.670583   \n",
              "min                      0.000000      17.60000           0.200000   \n",
              "25%                     26.800000      69.95000          27.100000   \n",
              "50%                     69.800000      92.30000         131.800000   \n",
              "75%                    151.000000      98.00000         305.550000   \n",
              "max                   6482.200000     100.00000         898.000000   \n",
              "\n",
              "        Birthrate  Agriculture    Industry     Service  \n",
              "count  195.000000   195.000000  195.000000  195.000000  \n",
              "mean    22.889744     0.158349    0.293564    0.547195  \n",
              "std     11.359249     0.149453    0.135160    0.154904  \n",
              "min      7.290000     0.000000    0.040000    0.062000  \n",
              "25%     12.835000     0.039000    0.203500    0.425500  \n",
              "50%     20.690000     0.112000    0.275000    0.560000  \n",
              "75%     30.815000     0.231000    0.349000    0.665000  \n",
              "max     50.730000     0.769000    0.906000    0.906000  "
            ]
          },
          "execution_count": 16,
          "metadata": {},
          "output_type": "execute_result"
        }
      ],
      "source": [
        "gdp_data['GDP ($ per capita)'] = pd.qcut(gdp_data['GDP ($ per capita)'], 5, labels=False)\n",
        "print(f\"Number of labels: {gdp_data['GDP ($ per capita)'].nunique()}\")\n",
        "gdp_data.describe()"
      ]
    },
    {
      "cell_type": "markdown",
      "metadata": {
        "id": "IsNZvsISfG1z"
      },
      "source": [
        "We will have to retrain the model with the new labels. In the next block we reset the data but with the new labels and then feed it into our Neural Network model again."
      ]
    },
    {
      "cell_type": "code",
      "execution_count": 17,
      "metadata": {
        "id": "BWK_b3sdxG2C"
      },
      "outputs": [],
      "source": [
        "train, test = train_test_split(gdp_data, test_size=0.3, shuffle=True)\n",
        "training_features = ['Infant mortality (per 1000 births)',\n",
        "       'Net migration', 'Pop. Density (per sq. mi.)', 'Literacy (%)',\n",
        "       'Phones (per 1000)', 'Birthrate', 'Agriculture', 'Industry',\n",
        "       'Service']\n",
        "target = 'GDP ($ per capita)'\n",
        "train_X = train[training_features] # 136 instances of data, each with 9 features\n",
        "train_Y = train[target] # 136 instances of data, each with 5 different possible target to predict\n",
        "test_X = test[training_features] # 59 instances of data, each with 9 features\n",
        "test_Y = test[target] # 59 instances of data, each with 5 different possible target to predict"
      ]
    },
    {
      "cell_type": "code",
      "execution_count": 20,
      "metadata": {},
      "outputs": [
        {
          "data": {
            "text/plain": [
              "(136, 9)"
            ]
          },
          "execution_count": 20,
          "metadata": {},
          "output_type": "execute_result"
        }
      ],
      "source": [
        "train_X.shape"
      ]
    },
    {
      "cell_type": "code",
      "execution_count": 29,
      "metadata": {
        "colab": {
          "base_uri": "https://localhost:8080/"
        },
        "id": "P2VcXqGgxBog",
        "outputId": "3e336b33-c7e5-4231-b3a5-43f322af4062"
      },
      "outputs": [
        {
          "name": "stdout",
          "output_type": "stream",
          "text": [
            "Model: \"sequential_4\"\n",
            "_________________________________________________________________\n",
            " Layer (type)                Output Shape              Param #   \n",
            "=================================================================\n",
            " dense_20 (Dense)            (None, 128)               1280      \n",
            "                                                                 \n",
            " dense_21 (Dense)            (None, 256)               33024     \n",
            "                                                                 \n",
            " dense_22 (Dense)            (None, 256)               65792     \n",
            "                                                                 \n",
            " dense_23 (Dense)            (None, 256)               65792     \n",
            "                                                                 \n",
            " dense_24 (Dense)            (None, 5)                 1285      \n",
            "                                                                 \n",
            "=================================================================\n",
            "Total params: 167,173\n",
            "Trainable params: 167,173\n",
            "Non-trainable params: 0\n",
            "_________________________________________________________________\n",
            "Epoch 1/15\n",
            "5/5 [==============================] - 0s 3ms/step - loss: 1.6235 - accuracy: 0.4118\n",
            "Epoch 2/15\n",
            "5/5 [==============================] - 0s 4ms/step - loss: 1.4966 - accuracy: 0.4559\n",
            "Epoch 3/15\n",
            "5/5 [==============================] - 0s 5ms/step - loss: 1.1188 - accuracy: 0.5074\n",
            "Epoch 4/15\n",
            "5/5 [==============================] - 0s 4ms/step - loss: 1.0914 - accuracy: 0.5588\n",
            "Epoch 5/15\n",
            "5/5 [==============================] - 0s 4ms/step - loss: 1.0584 - accuracy: 0.5441\n",
            "Epoch 6/15\n",
            "5/5 [==============================] - 0s 4ms/step - loss: 1.0496 - accuracy: 0.5588\n",
            "Epoch 7/15\n",
            "5/5 [==============================] - 0s 3ms/step - loss: 0.9403 - accuracy: 0.5882\n",
            "Epoch 8/15\n",
            "5/5 [==============================] - 0s 4ms/step - loss: 0.8889 - accuracy: 0.5662\n",
            "Epoch 9/15\n",
            "5/5 [==============================] - 0s 5ms/step - loss: 0.8611 - accuracy: 0.6324\n",
            "Epoch 10/15\n",
            "5/5 [==============================] - 0s 4ms/step - loss: 0.8264 - accuracy: 0.6176\n",
            "Epoch 11/15\n",
            "5/5 [==============================] - 0s 4ms/step - loss: 0.8485 - accuracy: 0.6985\n",
            "Epoch 12/15\n",
            "5/5 [==============================] - 0s 4ms/step - loss: 0.8429 - accuracy: 0.5956\n",
            "Epoch 13/15\n",
            "5/5 [==============================] - 0s 4ms/step - loss: 0.7682 - accuracy: 0.6618\n",
            "Epoch 14/15\n",
            "5/5 [==============================] - 0s 4ms/step - loss: 0.7987 - accuracy: 0.6397\n",
            "Epoch 15/15\n",
            "5/5 [==============================] - 0s 4ms/step - loss: 0.8676 - accuracy: 0.5809\n"
          ]
        },
        {
          "data": {
            "text/plain": [
              "<keras.callbacks.History at 0x1e5f60f8790>"
            ]
          },
          "execution_count": 29,
          "metadata": {},
          "output_type": "execute_result"
        }
      ],
      "source": [
        "### NOTE!!! Let's first tackle an CLASSIFICATION problem\n",
        "# -> Notice how we have still have 9 as the initial input dimension (line7) for this neural network\n",
        "# -> However, our output dimension will be 5(line16) as opposed to 1 in the prior scenario\n",
        "# -> This is because our model has 9 features to learn from and 5 targets the model is trying to predict.\n",
        "model = Sequential()\n",
        "\n",
        "# The Input Layer :\n",
        "model.add(Dense(128, kernel_initializer='normal',input_dim = 9, activation='relu'))\n",
        "\n",
        "# The Hidden Layers :\n",
        "model.add(Dense(256, kernel_initializer='normal',activation='relu'))\n",
        "model.add(Dense(256, kernel_initializer='normal',activation='relu'))\n",
        "model.add(Dense(256, kernel_initializer='normal',activation='relu'))\n",
        "\n",
        "# The Output Layer :\n",
        "model.add(Dense(5, kernel_initializer='normal'))\n",
        "\n",
        "# Compile the network :\n",
        "model.compile(optimizer='adam',\n",
        "              loss=losses.CategoricalCrossentropy(from_logits=True),\n",
        "              metrics=['accuracy'])\n",
        "model.summary()\n",
        "\n",
        "adj_train_Y = []\n",
        "for row in train_Y:\n",
        "  new_row = [0, 0, 0, 0, 0]\n",
        "  new_row[row] = 1\n",
        "  adj_train_Y.append(new_row)\n",
        "adj_train_Y = np.array(adj_train_Y)\n",
        "model.fit(train_X, adj_train_Y, epochs=15, batch_size=32)"
      ]
    },
    {
      "cell_type": "markdown",
      "metadata": {},
      "source": [
        "test_x.shape is (59,9), meaning there're 59 sets of sample data each with 9 different features. So... predictions.shape is (59, 5), since our model is predicting for 59 sets of data and it has 5 targets to predict."
      ]
    },
    {
      "cell_type": "code",
      "execution_count": 42,
      "metadata": {},
      "outputs": [
        {
          "name": "stdout",
          "output_type": "stream",
          "text": [
            "Dimension of input: (59, 9) (test_X)\n",
            "Dimension of output: (59, 5) (predictions)\n"
          ]
        }
      ],
      "source": [
        "predictions = model.predict(test_X)\n",
        "print(f\"Dimension of input: {test_X.shape} (test_X)\")\n",
        "print(f\"Dimension of output: {predictions.shape} (predictions)\")"
      ]
    },
    {
      "cell_type": "markdown",
      "metadata": {},
      "source": [
        "Let's take a look at one of the model's prediction and notice how they aren't perfect integers"
      ]
    },
    {
      "cell_type": "markdown",
      "metadata": {},
      "source": [
        "The Neural Network outputs probabilities for the classes of target, so we treat the max number in the list as prediction"
      ]
    },
    {
      "cell_type": "code",
      "execution_count": 41,
      "metadata": {},
      "outputs": [
        {
          "name": "stdout",
          "output_type": "stream",
          "text": [
            "[-0.35729855  1.9239146   2.1203842  -0.22724673 -2.2875826 ]\n",
            "[2.1203842]\n"
          ]
        }
      ],
      "source": [
        "sample_index = 0\n",
        "# raw model prediction\n",
        "print(predictions[sample_index])\n",
        "# maxed out model prediction with Numpy\n",
        "largest_index = np.where(predictions[sample_index] == max(predictions[sample_index]))\n",
        "print(predictions[sample_index][largest_index])\n",
        "# you can see the largest number is located at index 2, so target 3 is our model prediction"
      ]
    },
    {
      "cell_type": "markdown",
      "metadata": {},
      "source": [
        "Because this is a discrete model, we can create a confusion matrix to see where the model is going wrong and see what it is misclassifying. This is a great way to visualize the evaluation metrics. For this confusion matrix, we use sklearn.metrics."
      ]
    },
    {
      "cell_type": "markdown",
      "metadata": {},
      "source": [
        "### A Confusion matrix is an N x N matrix used for evaluating the performance of a classification model, where N is the number of target classes. The matrix compares the actual target values with those predicted by the machine learning model."
      ]
    },
    {
      "cell_type": "markdown",
      "metadata": {},
      "source": [
        "Let say row 1 and column 1 represent the target class \"Poor\". Then, cf_matrix[1][1] tells that 4 predictions were made accurately for the target class \"Poor\""
      ]
    },
    {
      "cell_type": "markdown",
      "metadata": {},
      "source": [
        "Let say row 0 represent the target class \"Very Poor\" and column 1 represent the target class \"Poor\". Then, cf_matrix[0][1] tells that 8 predictions were made incurrately where: the model predicted 8 target classes of \"Poor\", but they were actually supposed to be the target class \"Very Poor\""
      ]
    },
    {
      "cell_type": "code",
      "execution_count": 64,
      "metadata": {
        "colab": {
          "base_uri": "https://localhost:8080/"
        },
        "id": "-QmZqDkJxKIs",
        "outputId": "25140708-dfeb-4c2c-f569-bf88fcb76331"
      },
      "outputs": [
        {
          "data": {
            "text/plain": [
              "array([[8, 0, 1, 0, 0],\n",
              "       [0, 4, 6, 1, 0],\n",
              "       [0, 3, 6, 3, 1],\n",
              "       [0, 0, 5, 7, 3],\n",
              "       [0, 0, 0, 2, 9]], dtype=int64)"
            ]
          },
          "execution_count": 64,
          "metadata": {},
          "output_type": "execute_result"
        }
      ],
      "source": [
        "predictions = model.predict(test_X)\n",
        "adj_predictions = []\n",
        "\n",
        "for prediction in predictions:\n",
        "  largest_index = np.where(prediction == max(prediction))\n",
        "  adj_predictions.append(largest_index[0])\n",
        "adj_predictions = np.array(adj_predictions)\n",
        "cf_matrix = confusion_matrix(np.array(test_Y), adj_predictions)\n",
        "cf_matrix"
      ]
    },
    {
      "cell_type": "markdown",
      "metadata": {
        "id": "5FU5kxWgfipX"
      },
      "source": [
        "With our confusion matrix set up, we will now set up the heatmap to show it off in a more visually appealing way. We will need to create the title, x-axis label, y-axis label, and the different labels for the different sections."
      ]
    },
    {
      "cell_type": "code",
      "execution_count": 65,
      "metadata": {
        "colab": {
          "base_uri": "https://localhost:8080/",
          "height": 349
        },
        "id": "XN9uQ5h2udz3",
        "outputId": "e9840398-0847-470c-f5b0-0543acd07cfa"
      },
      "outputs": [
        {
          "data": {
            "image/png": "[encoded data removed]",
            "text/plain": [
              "<Figure size 432x288 with 2 Axes>"
            ]
          },
          "metadata": {
            "needs_background": "light"
          },
          "output_type": "display_data"
        }
      ],
      "source": [
        "ax = sns.heatmap(cf_matrix, annot=True, cmap='Blues')\n",
        "\n",
        "ax.set_title('Wealth of Countries\\n\\n')\n",
        "ax.set_xlabel('\\nPredicted Values')\n",
        "ax.set_ylabel('Actual Values')\n",
        "\n",
        "ax.xaxis.set_ticklabels(['Very\\nWealthy','Wealthy','Average','Poor','Very Poor'])\n",
        "ax.yaxis.set_ticklabels(['Very\\n Wealthy','Wealthy','Average','Poor','Very Poor'])\n",
        "\n",
        "plt.show()"
      ]
    },
    {
      "cell_type": "markdown",
      "metadata": {
        "id": "wZHuZsHRfm6-"
      },
      "source": [
        "For the next confusion matrix, I wanted to see the % of each answer within a row."
      ]
    },
    {
      "cell_type": "code",
      "execution_count": 66,
      "metadata": {
        "colab": {
          "base_uri": "https://localhost:8080/",
          "height": 349
        },
        "id": "R-IIc6V31oj_",
        "outputId": "165efa86-5246-48b1-bc46-b3be386b6b50"
      },
      "outputs": [
        {
          "data": {
            "image/png": "[encoded data removed]",
            "text/plain": [
              "<Figure size 432x288 with 2 Axes>"
            ]
          },
          "metadata": {
            "needs_background": "light"
          },
          "output_type": "display_data"
        }
      ],
      "source": [
        "cf_matrix = confusion_matrix(np.array(test_Y), adj_predictions)\n",
        "percent_matrix = []\n",
        "for i in range(len(cf_matrix)):\n",
        "  percent_matrix.append(cf_matrix[i]/sum(cf_matrix[i]))\n",
        "\n",
        "ax = sns.heatmap(percent_matrix, annot=True, cmap='Blues', fmt='.2%')\n",
        "\n",
        "ax.set_title('Wealth of Countries\\n\\n')\n",
        "ax.set_xlabel('\\nPredicted Values')\n",
        "ax.set_ylabel('Actual Values')\n",
        "\n",
        "ax.xaxis.set_ticklabels(['Very Poor','Poor','Average','Wealthy','Very\\nWealthy'])\n",
        "ax.yaxis.set_ticklabels(['Very Poor','Poor','Average','Wealthy','Very\\nWealthy'])\n",
        "\n",
        "plt.show()"
      ]
    },
    {
      "cell_type": "markdown",
      "metadata": {
        "id": "aoh_FYUbfp7a"
      },
      "source": [
        "Finally, we will print out the raw accuacy of our model, meaning how often it labeled the country correctly."
      ]
    },
    {
      "cell_type": "markdown",
      "metadata": {},
      "source": [
        "Accuracy Score: the ratio of number of correct predictions to the total number of input samples. Calculation: (number of labels accurately predicted) / (total instance of labels)"
      ]
    },
    {
      "cell_type": "markdown",
      "metadata": {},
      "source": [
        "Note: 100% is the best accuracy there is, but be suspicious because this might be a result of overfitting"
      ]
    },
    {
      "cell_type": "markdown",
      "metadata": {},
      "source": [
        "### Overfitting: happens when a model learns the detail and noise in the training data to the extent that it negatively impacts the performance of the model on new data"
      ]
    },
    {
      "cell_type": "code",
      "execution_count": 67,
      "metadata": {
        "colab": {
          "base_uri": "https://localhost:8080/"
        },
        "id": "FlmyfSI71wtD",
        "outputId": "9c6195d7-4731-4055-95cd-1a5660512b6c"
      },
      "outputs": [
        {
          "data": {
            "text/plain": [
              "0.576271186440678"
            ]
          },
          "execution_count": 67,
          "metadata": {},
          "output_type": "execute_result"
        }
      ],
      "source": [
        "accuracy_score(np.array(test_Y), adj_predictions)"
      ]
    },
    {
      "cell_type": "markdown",
      "metadata": {},
      "source": [
        "#### Why is our model's accuracy so low? Possibilities that can explain this:\n",
        "#### \t1) The input data and output target have a very low correlation.\n",
        "#### \t2) There isn't enough data for the model to learn anything...\n",
        "#### \t3) The model is too weak and is unable to pick up correlations from the data."
      ]
    }
  ],
  "metadata": {
    "colab": {
      "name": "DS_Curriculum_ML_Models_Deep_Neural_Nets(2b).ipynb",
      "provenance": []
    },
    "kernelspec": {
      "display_name": "Python 3",
      "name": "python3"
    },
    "language_info": {
      "codemirror_mode": {
        "name": "ipython",
        "version": 3
      },
      "file_extension": ".py",
      "mimetype": "text/x-python",
      "name": "python",
      "nbconvert_exporter": "python",
      "pygments_lexer": "ipython3",
      "version": "3.8.13"
    }
  },
  "nbformat": 4,
  "nbformat_minor": 0
}
